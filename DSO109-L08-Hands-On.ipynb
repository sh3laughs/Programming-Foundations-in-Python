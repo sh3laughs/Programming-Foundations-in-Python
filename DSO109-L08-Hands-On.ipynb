{
 "cells": [
  {
   "cell_type": "markdown",
   "id": "17a24ab4-a715-4726-8e88-399c5a282335",
   "metadata": {},
   "source": [
    "### DSO109 - Programming Foundations - Python\n",
    "#### Lesson 8 - Python for Data Science"
   ]
  },
  {
   "cell_type": "markdown",
   "id": "6ed02fbe-6550-48cb-9098-43128135ac3d",
   "metadata": {},
   "source": [
    "______________\n",
    "\n",
    "#### Page 11 - Hands-On"
   ]
  },
  {
   "cell_type": "markdown",
   "id": "17f44149-937a-4b08-9739-601e045d8f90",
   "metadata": {},
   "source": [
    "You are working for an ecology company, and they have been tracking bison throughout North America. They've collected [data](https://repo.exeterlms.com/documents/V2/DataScience/Data-Wrang-Visual/BisonTracking.zip) on the location, number, genus, and species of bison. They'd like to know some basic information about the bison, to determine whether the species is still in danger or whether it is recovering."
   ]
  },
  {
   "cell_type": "markdown",
   "id": "e88ef162-bb01-4cba-866c-50ebac434f06",
   "metadata": {},
   "source": [
    "**Please perform the following tasks:**\n",
    "\n",
    "* **Read in your data as a CSV file** "
   ]
  },
  {
   "cell_type": "code",
   "execution_count": 6,
   "id": "08a83f57-4a13-4831-9af4-6a2ec7c04fad",
   "metadata": {},
   "outputs": [],
   "source": [
    "import pandas as pd"
   ]
  },
  {
   "cell_type": "code",
   "execution_count": 8,
   "id": "c4437499-bee8-49d2-8c63-9c66eef4db5d",
   "metadata": {},
   "outputs": [],
   "source": [
    "bison = pd.read_csv('/Users/hannah/Library/CloudStorage/GoogleDrive-gracesnouveaux@gmail.com/My Drive/Bethel Tech/Data Science/DSO109 Programming Foundations – Python/Lesson 8: Python for Data Science/BisonTracking.csv')"
   ]
  },
  {
   "cell_type": "markdown",
   "id": "41fad030-55f4-450f-9863-42fc542dfa5d",
   "metadata": {},
   "source": [
    "*`Pandas` package imported, and its `read_csv()` function used to import provided dataset*"
   ]
  },
  {
   "cell_type": "markdown",
   "id": "af037172-021d-4058-8a88-b17450d409a8",
   "metadata": {},
   "source": [
    "______________"
   ]
  },
  {
   "cell_type": "markdown",
   "id": "5546ea2b-e0a5-4702-ad8b-f487bba49ff8",
   "metadata": {},
   "source": [
    "* **Look at the first seven rows of your data**"
   ]
  },
  {
   "cell_type": "code",
   "execution_count": 9,
   "id": "d6aa4aca-99c8-48f4-9679-3b074f5fc639",
   "metadata": {},
   "outputs": [
    {
     "data": {
      "text/html": [
       "<div>\n",
       "<style scoped>\n",
       "    .dataframe tbody tr th:only-of-type {\n",
       "        vertical-align: middle;\n",
       "    }\n",
       "\n",
       "    .dataframe tbody tr th {\n",
       "        vertical-align: top;\n",
       "    }\n",
       "\n",
       "    .dataframe thead th {\n",
       "        text-align: right;\n",
       "    }\n",
       "</style>\n",
       "<table border=\"1\" class=\"dataframe\">\n",
       "  <thead>\n",
       "    <tr style=\"text-align: right;\">\n",
       "      <th></th>\n",
       "      <th>Collection/Population Locality</th>\n",
       "      <th>SpecimenNumber</th>\n",
       "      <th>Genus</th>\n",
       "      <th>Species</th>\n",
       "      <th>Length</th>\n",
       "    </tr>\n",
       "  </thead>\n",
       "  <tbody>\n",
       "    <tr>\n",
       "      <th>0</th>\n",
       "      <td>12 Mile Creek</td>\n",
       "      <td>112916</td>\n",
       "      <td>Bison</td>\n",
       "      <td>antiquus</td>\n",
       "      <td>8</td>\n",
       "    </tr>\n",
       "    <tr>\n",
       "      <th>1</th>\n",
       "      <td>12 Mile Creek</td>\n",
       "      <td>112917</td>\n",
       "      <td>Bison</td>\n",
       "      <td>antiquus</td>\n",
       "      <td>7</td>\n",
       "    </tr>\n",
       "    <tr>\n",
       "      <th>2</th>\n",
       "      <td>12 Mile Creek</td>\n",
       "      <td>112918</td>\n",
       "      <td>Bison</td>\n",
       "      <td>antiquus</td>\n",
       "      <td>7</td>\n",
       "    </tr>\n",
       "    <tr>\n",
       "      <th>3</th>\n",
       "      <td>12 Mile Creek</td>\n",
       "      <td>112919</td>\n",
       "      <td>Bison</td>\n",
       "      <td>antiquus</td>\n",
       "      <td>8</td>\n",
       "    </tr>\n",
       "    <tr>\n",
       "      <th>4</th>\n",
       "      <td>12 Mile Creek</td>\n",
       "      <td>112921</td>\n",
       "      <td>Bison</td>\n",
       "      <td>antiquus</td>\n",
       "      <td>9</td>\n",
       "    </tr>\n",
       "    <tr>\n",
       "      <th>5</th>\n",
       "      <td>12 Mile Creek</td>\n",
       "      <td>112925</td>\n",
       "      <td>Bison</td>\n",
       "      <td>antiquus</td>\n",
       "      <td>9</td>\n",
       "    </tr>\n",
       "    <tr>\n",
       "      <th>6</th>\n",
       "      <td>Agate Basin-Agate Basin</td>\n",
       "      <td>458</td>\n",
       "      <td>Bison</td>\n",
       "      <td>antiquus</td>\n",
       "      <td>7</td>\n",
       "    </tr>\n",
       "  </tbody>\n",
       "</table>\n",
       "</div>"
      ],
      "text/plain": [
       "  Collection/Population Locality SpecimenNumber  Genus   Species  Length\n",
       "0                  12 Mile Creek         112916  Bison  antiquus       8\n",
       "1                  12 Mile Creek         112917  Bison  antiquus       7\n",
       "2                  12 Mile Creek         112918  Bison  antiquus       7\n",
       "3                  12 Mile Creek         112919  Bison  antiquus       8\n",
       "4                  12 Mile Creek         112921  Bison  antiquus       9\n",
       "5                  12 Mile Creek         112925  Bison  antiquus       9\n",
       "6        Agate Basin-Agate Basin            458  Bison  antiquus       7"
      ]
     },
     "execution_count": 9,
     "metadata": {},
     "output_type": "execute_result"
    }
   ],
   "source": [
    "bison.head(7)"
   ]
  },
  {
   "cell_type": "markdown",
   "id": "9306e08f-138c-48cf-a6d3-69639733ed65",
   "metadata": {},
   "source": [
    "*`head` function from `Pandas` package used to preview first 7 rows of dataset*"
   ]
  },
  {
   "cell_type": "markdown",
   "id": "a366c8b8-b58f-438d-8d45-968053629864",
   "metadata": {},
   "source": [
    "______________"
   ]
  },
  {
   "cell_type": "markdown",
   "id": "c3a311fc-58c2-4cb1-aecf-bc12f8d4d593",
   "metadata": {},
   "source": [
    "* **Look at the last ten rows of your data**"
   ]
  },
  {
   "cell_type": "code",
   "execution_count": 10,
   "id": "dcdceff5-0b8c-4268-8cb8-6ddc8e3edec6",
   "metadata": {},
   "outputs": [
    {
     "data": {
      "text/html": [
       "<div>\n",
       "<style scoped>\n",
       "    .dataframe tbody tr th:only-of-type {\n",
       "        vertical-align: middle;\n",
       "    }\n",
       "\n",
       "    .dataframe tbody tr th {\n",
       "        vertical-align: top;\n",
       "    }\n",
       "\n",
       "    .dataframe thead th {\n",
       "        text-align: right;\n",
       "    }\n",
       "</style>\n",
       "<table border=\"1\" class=\"dataframe\">\n",
       "  <thead>\n",
       "    <tr style=\"text-align: right;\">\n",
       "      <th></th>\n",
       "      <th>Collection/Population Locality</th>\n",
       "      <th>SpecimenNumber</th>\n",
       "      <th>Genus</th>\n",
       "      <th>Species</th>\n",
       "      <th>Length</th>\n",
       "    </tr>\n",
       "  </thead>\n",
       "  <tbody>\n",
       "    <tr>\n",
       "      <th>1097</th>\n",
       "      <td>Simonsen</td>\n",
       "      <td>SEC. 8, 30\", E2, #bb</td>\n",
       "      <td>Bison</td>\n",
       "      <td>antiquus</td>\n",
       "      <td>8</td>\n",
       "    </tr>\n",
       "    <tr>\n",
       "      <th>1098</th>\n",
       "      <td>Simonsen</td>\n",
       "      <td>SW15 #3</td>\n",
       "      <td>Bison</td>\n",
       "      <td>antiquus</td>\n",
       "      <td>8</td>\n",
       "    </tr>\n",
       "    <tr>\n",
       "      <th>1099</th>\n",
       "      <td>Simonsen</td>\n",
       "      <td>SW15 #3</td>\n",
       "      <td>Bison</td>\n",
       "      <td>antiquus</td>\n",
       "      <td>7</td>\n",
       "    </tr>\n",
       "    <tr>\n",
       "      <th>1100</th>\n",
       "      <td>Simonsen</td>\n",
       "      <td>SW37 #9</td>\n",
       "      <td>Bison</td>\n",
       "      <td>antiquus</td>\n",
       "      <td>9</td>\n",
       "    </tr>\n",
       "    <tr>\n",
       "      <th>1101</th>\n",
       "      <td>Simonsen</td>\n",
       "      <td>SW37 #9</td>\n",
       "      <td>Bison</td>\n",
       "      <td>antiquus</td>\n",
       "      <td>8</td>\n",
       "    </tr>\n",
       "    <tr>\n",
       "      <th>1102</th>\n",
       "      <td>Terapa</td>\n",
       "      <td>TERA 403</td>\n",
       "      <td>Bison</td>\n",
       "      <td>antiquus</td>\n",
       "      <td>7</td>\n",
       "    </tr>\n",
       "    <tr>\n",
       "      <th>1103</th>\n",
       "      <td>Terapa</td>\n",
       "      <td>TERA 404</td>\n",
       "      <td>Bison</td>\n",
       "      <td>antiquus</td>\n",
       "      <td>8</td>\n",
       "    </tr>\n",
       "    <tr>\n",
       "      <th>1104</th>\n",
       "      <td>Terapa</td>\n",
       "      <td>TERA 426</td>\n",
       "      <td>Bison</td>\n",
       "      <td>antiquus</td>\n",
       "      <td>9</td>\n",
       "    </tr>\n",
       "    <tr>\n",
       "      <th>1105</th>\n",
       "      <td>WICA</td>\n",
       "      <td>422F7A5179</td>\n",
       "      <td>Bison</td>\n",
       "      <td>bison</td>\n",
       "      <td>7</td>\n",
       "    </tr>\n",
       "    <tr>\n",
       "      <th>1106</th>\n",
       "      <td>WICA</td>\n",
       "      <td>AVID*074*597*636</td>\n",
       "      <td>Bison</td>\n",
       "      <td>bison</td>\n",
       "      <td>7</td>\n",
       "    </tr>\n",
       "  </tbody>\n",
       "</table>\n",
       "</div>"
      ],
      "text/plain": [
       "     Collection/Population Locality        SpecimenNumber  Genus   Species  \\\n",
       "1097                       Simonsen  SEC. 8, 30\", E2, #bb  Bison  antiquus   \n",
       "1098                       Simonsen               SW15 #3  Bison  antiquus   \n",
       "1099                       Simonsen               SW15 #3  Bison  antiquus   \n",
       "1100                       Simonsen               SW37 #9  Bison  antiquus   \n",
       "1101                       Simonsen               SW37 #9  Bison  antiquus   \n",
       "1102                         Terapa              TERA 403  Bison  antiquus   \n",
       "1103                         Terapa              TERA 404  Bison  antiquus   \n",
       "1104                         Terapa              TERA 426  Bison  antiquus   \n",
       "1105                           WICA            422F7A5179  Bison     bison   \n",
       "1106                           WICA      AVID*074*597*636  Bison     bison   \n",
       "\n",
       "      Length  \n",
       "1097       8  \n",
       "1098       8  \n",
       "1099       7  \n",
       "1100       9  \n",
       "1101       8  \n",
       "1102       7  \n",
       "1103       8  \n",
       "1104       9  \n",
       "1105       7  \n",
       "1106       7  "
      ]
     },
     "execution_count": 10,
     "metadata": {},
     "output_type": "execute_result"
    }
   ],
   "source": [
    "bison.tail(10)"
   ]
  },
  {
   "cell_type": "markdown",
   "id": "7c90c3e4-4a2d-409a-98ba-98e72b4d50ce",
   "metadata": {},
   "source": [
    "*`tail` function from `Pandas` package used to preview last 10 rows of dataset*"
   ]
  },
  {
   "cell_type": "markdown",
   "id": "fba15933-8135-4aa4-a406-4f0efdb9804d",
   "metadata": {},
   "source": [
    "______________"
   ]
  },
  {
   "cell_type": "markdown",
   "id": "86afa631-ae9d-4f68-9ff5-6c6197684a11",
   "metadata": {},
   "source": [
    "* **Determine the number of rows and columns your dataset has**"
   ]
  },
  {
   "cell_type": "code",
   "execution_count": 16,
   "id": "e1d07aad-05e8-42a9-afa4-559b9bb00135",
   "metadata": {},
   "outputs": [
    {
     "name": "stdout",
     "output_type": "stream",
     "text": [
      "There are 1107 rows in the bison dataset\n"
     ]
    }
   ],
   "source": [
    "print('There are', len(bison), 'rows in the bison dataset')"
   ]
  },
  {
   "cell_type": "code",
   "execution_count": 17,
   "id": "52a48e72-b078-44c0-9bba-1f073302f25b",
   "metadata": {},
   "outputs": [
    {
     "name": "stdout",
     "output_type": "stream",
     "text": [
      "There are 5 columns in the bison dataset\n"
     ]
    }
   ],
   "source": [
    "print('There are', len(bison.columns), 'columns in the bison dataset')"
   ]
  },
  {
   "cell_type": "markdown",
   "id": "1b1cb90b-6a4c-44fe-a93a-2cf0caa348e0",
   "metadata": {},
   "source": [
    "*`len` function from `Pandas` package used to confirm how many rows are in the dataset, then used*\n",
    "*again, in combination with the `.column` `Pandas` function to confirm how many columns there are*"
   ]
  },
  {
   "cell_type": "markdown",
   "id": "2607b68d-5def-48d5-810e-593bc44e3334",
   "metadata": {},
   "source": [
    "______________"
   ]
  },
  {
   "cell_type": "markdown",
   "id": "3a46c34a-20d1-45c6-ad0d-30e96f15874e",
   "metadata": {},
   "source": [
    "**And answer the following questions:**\n",
    "* **How many bison are of the species antiquus?**"
   ]
  },
  {
   "cell_type": "code",
   "execution_count": 18,
   "id": "518d048a-908b-4bb8-85f5-35f5b91a0726",
   "metadata": {},
   "outputs": [
    {
     "data": {
      "text/plain": [
       "antiquus        633\n",
       "bison           435\n",
       "occidentalis     39\n",
       "Name: Species, dtype: int64"
      ]
     },
     "execution_count": 18,
     "metadata": {},
     "output_type": "execute_result"
    }
   ],
   "source": [
    "bison.Species.value_counts()"
   ]
  },
  {
   "cell_type": "markdown",
   "id": "cd222a70-8b6d-4ffa-91f3-423b015a32ec",
   "metadata": {},
   "source": [
    "There are 633 bison from the antiquus species\n",
    "\n",
    "*`value_counts` function from `Pandas` package used to view frequencies for the `Species` column*"
   ]
  },
  {
   "cell_type": "markdown",
   "id": "e421642f-18f0-4940-b9a5-5b47473e9532",
   "metadata": {},
   "source": [
    "______________"
   ]
  },
  {
   "cell_type": "markdown",
   "id": "a91649ec-a4d4-4eee-ab11-c79e30d44d0f",
   "metadata": {},
   "source": [
    "* **What is the mean and standard deviation of Length?**"
   ]
  },
  {
   "cell_type": "code",
   "execution_count": 19,
   "id": "9ae4eac2-d4a1-427b-abe4-1021a3c245bb",
   "metadata": {},
   "outputs": [
    {
     "data": {
      "text/plain": [
       "count    1107.000000\n",
       "mean        7.981030\n",
       "std         0.808299\n",
       "min         7.000000\n",
       "25%         7.000000\n",
       "50%         8.000000\n",
       "75%         9.000000\n",
       "max         9.000000\n",
       "Name: Length, dtype: float64"
      ]
     },
     "execution_count": 19,
     "metadata": {},
     "output_type": "execute_result"
    }
   ],
   "source": [
    "bison.Length.describe()"
   ]
  },
  {
   "cell_type": "markdown",
   "id": "44887c90-61d2-4fdb-988f-c4cbdb2fad82",
   "metadata": {},
   "source": [
    "The mean of Length is: 7.981030\n",
    "The standard deviation of Length is: 0.808299\n",
    "\n",
    "*`describe` function from `Pandas` package used to view descriptive statistics for the `Length` column*"
   ]
  },
  {
   "cell_type": "markdown",
   "id": "61c65a8f-6c20-4892-8989-1d04e25c862e",
   "metadata": {},
   "source": [
    "______________"
   ]
  },
  {
   "cell_type": "markdown",
   "id": "223fbed1-1ccb-403e-bc84-77f66c93a282",
   "metadata": {},
   "source": [
    "* **What is the median length of the bison?**"
   ]
  },
  {
   "cell_type": "code",
   "execution_count": 20,
   "id": "dd6dac05-4c50-4166-873a-38716bd9b078",
   "metadata": {},
   "outputs": [
    {
     "data": {
      "text/plain": [
       "8.0"
      ]
     },
     "execution_count": 20,
     "metadata": {},
     "output_type": "execute_result"
    }
   ],
   "source": [
    "bison.Length.median()"
   ]
  },
  {
   "cell_type": "markdown",
   "id": "7d8ef620-cbd0-4ebf-b155-4e331ee7227a",
   "metadata": {},
   "source": [
    "The median Length of the bison is: 8\n",
    "\n",
    "*`median` function from `Pandas` package used to find median for the `Length` column*"
   ]
  }
 ],
 "metadata": {
  "kernelspec": {
   "display_name": "Python 3 (ipykernel)",
   "language": "python",
   "name": "python3"
  },
  "language_info": {
   "codemirror_mode": {
    "name": "ipython",
    "version": 3
   },
   "file_extension": ".py",
   "mimetype": "text/x-python",
   "name": "python",
   "nbconvert_exporter": "python",
   "pygments_lexer": "ipython3",
   "version": "3.9.13"
  }
 },
 "nbformat": 4,
 "nbformat_minor": 5
}
