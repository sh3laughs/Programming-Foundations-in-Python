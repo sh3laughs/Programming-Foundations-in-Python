{
 "cells": [
  {
   "cell_type": "markdown",
   "id": "8594c4a9-54e5-4a4c-be92-c353905a86d4",
   "metadata": {},
   "source": [
    "## DSO109 - Programming Foundations - Python\n",
    "### Lesson 10 - Final Project\n",
    "______________\n",
    "\n",
    "#### Page 1 - Final Project"
   ]
  },
  {
   "cell_type": "markdown",
   "id": "5587ce73-78e6-47aa-a295-8270b8561d60",
   "metadata": {},
   "source": [
    "__________\n",
    "## Final Project"
   ]
  },
  {
   "cell_type": "markdown",
   "id": "657027c7-95d5-43a2-aaad-0ab0736c3e79",
   "metadata": {},
   "source": [
    "### Final solution - customized\n",
    "\n",
    "*NOTE: see below for originally provided code, that same code with updates interspersed, and requirements with updates interspersed)*"
   ]
  },
  {
   "cell_type": "code",
   "execution_count": 24,
   "id": "c626c81f-99a5-46f0-9d1c-d4698384bd2e",
   "metadata": {},
   "outputs": [
    {
     "name": "stdin",
     "output_type": "stream",
     "text": [
      "\n",
      "====================\n",
      "1. List all tasks\n",
      "2. Add a task\n",
      "3. Remove a task\n",
      "4. Mark task complete\n",
      "5. Quit\n",
      "\n",
      "What would you like to do?  1\n"
     ]
    },
    {
     "name": "stdout",
     "output_type": "stream",
     "text": [
      "0: Learn new Python functions (Completed: True)\n",
      "1: Build project in Spyder (Completed: True)\n",
      "2: Build project in a Jupyter Notebook (Completed: False)\n",
      "3: Complete project with excellence (Completed: False)\n"
     ]
    },
    {
     "name": "stdin",
     "output_type": "stream",
     "text": [
      "\n",
      "====================\n",
      "1. List all tasks\n",
      "2. Add a task\n",
      "3. Remove a task\n",
      "4. Mark task complete\n",
      "5. Quit\n",
      "\n",
      "What would you like to do?  2\n",
      "Please add a task:  Enjoy the final project\n",
      "\n",
      "====================\n",
      "1. List all tasks\n",
      "2. Add a task\n",
      "3. Remove a task\n",
      "4. Mark task complete\n",
      "5. Quit\n",
      "\n",
      "What would you like to do?  1\n"
     ]
    },
    {
     "name": "stdout",
     "output_type": "stream",
     "text": [
      "0: Learn new Python functions (Completed: True)\n",
      "1: Build project in Spyder (Completed: True)\n",
      "2: Build project in a Jupyter Notebook (Completed: False)\n",
      "3: Complete project with excellence (Completed: False)\n",
      "4: Enjoy the final project (Completed: False)\n"
     ]
    },
    {
     "name": "stdin",
     "output_type": "stream",
     "text": [
      "\n",
      "====================\n",
      "1. List all tasks\n",
      "2. Add a task\n",
      "3. Remove a task\n",
      "4. Mark task complete\n",
      "5. Quit\n",
      "\n",
      "What would you like to do?  4\n"
     ]
    },
    {
     "name": "stdout",
     "output_type": "stream",
     "text": [
      "0: Learn new Python functions (Completed: True)\n",
      "1: Build project in Spyder (Completed: True)\n",
      "2: Build project in a Jupyter Notebook (Completed: False)\n",
      "3: Complete project with excellence (Completed: False)\n",
      "4: Enjoy the final project (Completed: False)\n"
     ]
    },
    {
     "name": "stdin",
     "output_type": "stream",
     "text": [
      "Please enter the number of the task you completed:  2\n",
      "\n",
      "====================\n",
      "1. List all tasks\n",
      "2. Add a task\n",
      "3. Remove a task\n",
      "4. Mark task complete\n",
      "5. Quit\n",
      "\n",
      "What would you like to do?  1\n"
     ]
    },
    {
     "name": "stdout",
     "output_type": "stream",
     "text": [
      "0: Learn new Python functions (Completed: True)\n",
      "1: Build project in Spyder (Completed: True)\n",
      "2: Build project in a Jupyter Notebook (Completed: True)\n",
      "3: Complete project with excellence (Completed: False)\n",
      "4: Enjoy the final project (Completed: False)\n"
     ]
    },
    {
     "name": "stdin",
     "output_type": "stream",
     "text": [
      "\n",
      "====================\n",
      "1. List all tasks\n",
      "2. Add a task\n",
      "3. Remove a task\n",
      "4. Mark task complete\n",
      "5. Quit\n",
      "\n",
      "What would you like to do?  4\n"
     ]
    },
    {
     "name": "stdout",
     "output_type": "stream",
     "text": [
      "0: Learn new Python functions (Completed: True)\n",
      "1: Build project in Spyder (Completed: True)\n",
      "2: Build project in a Jupyter Notebook (Completed: True)\n",
      "3: Complete project with excellence (Completed: False)\n",
      "4: Enjoy the final project (Completed: False)\n"
     ]
    },
    {
     "name": "stdin",
     "output_type": "stream",
     "text": [
      "Please enter the number of the task you completed:  4\n",
      "\n",
      "====================\n",
      "1. List all tasks\n",
      "2. Add a task\n",
      "3. Remove a task\n",
      "4. Mark task complete\n",
      "5. Quit\n",
      "\n",
      "What would you like to do?  1\n"
     ]
    },
    {
     "name": "stdout",
     "output_type": "stream",
     "text": [
      "0: Learn new Python functions (Completed: True)\n",
      "1: Build project in Spyder (Completed: True)\n",
      "2: Build project in a Jupyter Notebook (Completed: True)\n",
      "3: Complete project with excellence (Completed: False)\n",
      "4: Enjoy the final project (Completed: True)\n"
     ]
    },
    {
     "name": "stdin",
     "output_type": "stream",
     "text": [
      "\n",
      "====================\n",
      "1. List all tasks\n",
      "2. Add a task\n",
      "3. Remove a task\n",
      "4. Mark task complete\n",
      "5. Quit\n",
      "\n",
      "What would you like to do?  3\n"
     ]
    },
    {
     "name": "stdout",
     "output_type": "stream",
     "text": [
      "0: Learn new Python functions (Completed: True)\n",
      "1: Build project in Spyder (Completed: True)\n",
      "2: Build project in a Jupyter Notebook (Completed: True)\n",
      "3: Complete project with excellence (Completed: False)\n",
      "4: Enjoy the final project (Completed: True)\n"
     ]
    },
    {
     "name": "stdin",
     "output_type": "stream",
     "text": [
      "Please enter the number of the task to be removed:  4\n",
      "\n",
      "====================\n",
      "1. List all tasks\n",
      "2. Add a task\n",
      "3. Remove a task\n",
      "4. Mark task complete\n",
      "5. Quit\n",
      "\n",
      "What would you like to do?  1\n"
     ]
    },
    {
     "name": "stdout",
     "output_type": "stream",
     "text": [
      "0: Learn new Python functions (Completed: True)\n",
      "1: Build project in Spyder (Completed: True)\n",
      "2: Build project in a Jupyter Notebook (Completed: True)\n",
      "3: Complete project with excellence (Completed: False)\n"
     ]
    },
    {
     "name": "stdin",
     "output_type": "stream",
     "text": [
      "\n",
      "====================\n",
      "1. List all tasks\n",
      "2. Add a task\n",
      "3. Remove a task\n",
      "4. Mark task complete\n",
      "5. Quit\n",
      "\n",
      "What would you like to do?  5\n"
     ]
    },
    {
     "name": "stdout",
     "output_type": "stream",
     "text": [
      "Have a nice day!\n"
     ]
    }
   ],
   "source": [
    "tasks = [\n",
    "    {'name': 'Learn new Python functions', 'completed': True},\n",
    "    {'name': 'Build project in Spyder', 'completed': True},\n",
    "    {'name': 'Build project in a Jupyter Notebook',\n",
    "     'completed': False},\n",
    "    {'name': 'Complete project with excellence', 'completed': False}\n",
    "]\n",
    "\n",
    "def list_tasks():\n",
    "    for index, task in enumerate(tasks):\n",
    "        print(str.format('{}: {} (Completed: {})', index,\n",
    "                         task['name'], task['completed']))\n",
    "\n",
    "\n",
    "def add_task():\n",
    "    task_text = input('Please add a task: ')\n",
    "    new_task = {'name': task_text, 'completed': False}\n",
    "    tasks.append(new_task)\n",
    "\n",
    "def remove_task():\n",
    "    list_tasks()\n",
    "    remove_task = int(input(\n",
    "        'Please enter the number of the task to be removed: '))\n",
    "    tasks.remove(tasks[remove_task])\n",
    "\n",
    "def complete_task():\n",
    "    list_tasks()\n",
    "    complete_task = int(input(\n",
    "        'Please enter the number of the task you completed: '))\n",
    "    tasks[complete_task]['completed'] = True\n",
    "\n",
    "\n",
    "menu_text = \"\"\"\n",
    "====================\n",
    "1. List all tasks\n",
    "2. Add a task\n",
    "3. Remove a task\n",
    "4. Mark task complete\n",
    "5. Quit\n",
    "\n",
    "What would you like to do? \"\"\"\n",
    "\n",
    "\n",
    "program_is_running = True\n",
    "\n",
    "\n",
    "while program_is_running:\n",
    "    decision = input(menu_text)\n",
    "    if decision == '1':\n",
    "        list_tasks()\n",
    "\n",
    "    elif decision == '2':\n",
    "        add_task()\n",
    "\n",
    "    elif decision == '3':\n",
    "        remove_task()\n",
    "\n",
    "    elif decision == '4':\n",
    "        complete_task()\n",
    "\n",
    "    elif decision == '5':\n",
    "        program_is_running = False\n",
    "        print('Have a nice day!')\n",
    "\n",
    "    else:\n",
    "        print('Please choose a valid option')"
   ]
  },
  {
   "cell_type": "markdown",
   "id": "79947d24-f725-4de1-9fc6-7a41d7f12ef2",
   "metadata": {},
   "source": [
    "_________\n",
    "### Requirements"
   ]
  },
  {
   "cell_type": "markdown",
   "id": "c6d317a0-b631-4723-bf6e-c6dd8aca7821",
   "metadata": {},
   "source": [
    "Below are the requirements for this project. There is some functionality already set up in your project. Currently, if you run the program in your VSCode terminal, you will see a menu of options, as shown below:\n",
    "\n",
    "`1. List the tasks`\n",
    "\n",
    "`2. Add a task`\n",
    "\n",
    "`3. Remove a task`\n",
    "\n",
    "`4. Mark a task complete`\n",
    "\n",
    "`5. Quit`\n",
    "\n",
    "\n",
    "`What would you like to do?`\n",
    " \n",
    "As the user, you are able to input the number 1 to see all tasks that currently live in the list of tasks (dictionaries) named tasks. The goal here is for you to write the functionality to add, remove, and mark a task complete by inputting 2, 3, or 4, respectively. Instructions are listed below.\n",
    "Tip!\n",
    "Remember to pay attention to indenting! When defining a function, you should have a colon at the end of the line, and Python will automatically indent for you. If you're not seeing the next line indented, double check your code!\n"
   ]
  },
  {
   "cell_type": "markdown",
   "id": "bc96410c-4103-46ce-8df3-76bbba6b31ee",
   "metadata": {},
   "source": [
    "#### Add a Task\n",
    "\n",
    "1: Within the already created `add_task` function, there is a variable named `task_text` which is the result of the `input()` function which prompts the user to type in something.\n",
    "\n",
    "This `input()` function is a new function that you haven't seen before. It is essentially the opposite of the `print()` function. This allows for the user to input text when called.\n",
    "\n",
    "2: Create a dictionary that uses the task_text variable as the name and sets completed to False.\n",
    "\n",
    "3: Add the dictionary to the `tasks` list."
   ]
  },
  {
   "cell_type": "code",
   "execution_count": 17,
   "id": "2979685b-b6fa-48bc-9858-74b662926245",
   "metadata": {},
   "outputs": [],
   "source": [
    "def add_task():\n",
    "    task_text = input('Please add a task: ')\n",
    "    new_task = {'name': task_text, 'completed': True}\n",
    "    tasks.append(new_task)"
   ]
  },
  {
   "cell_type": "markdown",
   "id": "af54eb14-1275-454f-bb8a-4f65b494ff30",
   "metadata": {},
   "source": [
    "4: Within the `while` loop, add an `elif` statement that checks if the variable `decision` (defined within the while loop that allows the user to input a number) is `2`, call the `add_task` function."
   ]
  },
  {
   "cell_type": "code",
   "execution_count": 18,
   "id": "29b8fb15-17b9-4206-ae6e-3b14e990da32",
   "metadata": {},
   "outputs": [],
   "source": [
    "while program_is_running:\n",
    "    decision = input(menu_text)\n",
    "    if decision == '1':\n",
    "        list_tasks()\n",
    "\n",
    "    elif decision == '2':\n",
    "        add_task()\n",
    "\n",
    "    elif decision == '5':\n",
    "        program_is_running = False\n",
    "        print('Have a nice day!')\n",
    "\n",
    "    else:\n",
    "        print('please choose a valid option')"
   ]
  },
  {
   "cell_type": "markdown",
   "id": "f77d350b-b8df-46a6-9895-e5d0d8e0882a",
   "metadata": {},
   "source": [
    "#### Remove a task\n",
    "\n",
    "1: You will need a function to handle this.\n",
    "\n",
    "\n",
    "2: When this function is run, list out the tasks.\n",
    "\n",
    "*Hint! There is already a function that handles the listing of tasks.*\n",
    "\n",
    "3: Create a variable that uses `input()`. The user should be able to input the index number of the task to be removed.\n",
    "\n",
    "*Hint! You will need to wrap the `input()` function within the `int()` function so the user's input is read as a number.*\n",
    "\n",
    "4: Write the functionality to be able to delete the task in the list `tasks` based on the variable you created above."
   ]
  },
  {
   "cell_type": "code",
   "execution_count": 19,
   "id": "530e233f-d41d-42d2-972c-66442ac4ac19",
   "metadata": {},
   "outputs": [],
   "source": [
    "def remove_task():\n",
    "    list_tasks()\n",
    "    remove_task = int(input('Please enter the number of the task to be removed: '))\n",
    "    tasks.remove(tasks[remove_task])"
   ]
  },
  {
   "cell_type": "markdown",
   "id": "b5f4bf50-b056-4988-91c4-a1b37420f8ae",
   "metadata": {},
   "source": [
    "5: Within the `while` loop, add an `elif` statement that allows your new function to be run when the correct menu option is chosen."
   ]
  },
  {
   "cell_type": "code",
   "execution_count": 20,
   "id": "f23d114d-abae-4b99-baf7-2deba09cedf5",
   "metadata": {},
   "outputs": [],
   "source": [
    "while program_is_running:\n",
    "    decision = input(menu_text)\n",
    "    if decision == '1':\n",
    "        list_tasks()\n",
    "\n",
    "    elif decision == '2':\n",
    "        add_task()\n",
    "\n",
    "    elif decision == '3':\n",
    "        remove_task()\n",
    "\n",
    "    elif decision == '5':\n",
    "        program_is_running = False\n",
    "        print('Have a nice day!')\n",
    "\n",
    "    else:\n",
    "        print('please choose a valid option')"
   ]
  },
  {
   "cell_type": "markdown",
   "id": "b6f38633-3fab-458b-80f2-10c1d5c85dd9",
   "metadata": {},
   "source": [
    "#### Mark a task complete\n",
    "\n",
    "1: You will need a function to handle this.\n",
    "\n",
    "2: When this function is run, list out the tasks.\n",
    "\n",
    "Hint! There is already a function that handles the listing of tasks.\n",
    "\n",
    "3. Create a variable that uses input. The user should be able to input the index number of the task to be marked complete.\n",
    "\n",
    "Hint! You will need to wrap the `input()` function within the `int()` function so the user's input is read as a number.\n",
    "\n",
    "4: Mark the task as complete in the list tasks based on the variable you created above.\n",
    "\n",
    "Hint! you will need to use two sets of square brackets to find the index and set the appropriate key to True."
   ]
  },
  {
   "cell_type": "code",
   "execution_count": 21,
   "id": "8619df72-a42b-469d-8ed5-52d1f56d203f",
   "metadata": {},
   "outputs": [],
   "source": [
    "def complete_task():\n",
    "    list_tasks()\n",
    "    complete_task = int(input(\n",
    "        'Please enter the number of the task you completed: '))\n",
    "    tasks[complete_task]['completed'] = True"
   ]
  },
  {
   "cell_type": "markdown",
   "id": "e1f1b772-ef1b-4e5c-9869-78a97f00cb4f",
   "metadata": {},
   "source": [
    "5: Within the while loop, add an elif statement that allows your new function to be run when the correct menu option is chosen."
   ]
  },
  {
   "cell_type": "code",
   "execution_count": 22,
   "id": "7deda320-4bdc-42c9-b345-3e6711ce7b7c",
   "metadata": {},
   "outputs": [],
   "source": [
    "while program_is_running:\n",
    "    decision = input(menu_text)\n",
    "    if decision == '1':\n",
    "        list_tasks()\n",
    "\n",
    "    elif decision == '2':\n",
    "        add_task()\n",
    "\n",
    "    elif decision == '3':\n",
    "        remove_task()\n",
    "\n",
    "    elif decision == '4':\n",
    "        complete_task()\n",
    "\n",
    "    elif decision == '5':\n",
    "        program_is_running = False\n",
    "        print('Have a nice day!')\n",
    "\n",
    "    else:\n",
    "        print('please choose a valid option')"
   ]
  },
  {
   "cell_type": "markdown",
   "id": "ef947ef4-d223-4ee5-82bf-9424f25eb2b3",
   "metadata": {},
   "source": [
    "_________\n",
    "### Provided code with updates interspersed (*separate cells*)"
   ]
  },
  {
   "cell_type": "code",
   "execution_count": 6,
   "id": "bd92102c-1bcf-4def-bbff-ca90c1fcb9d0",
   "metadata": {},
   "outputs": [],
   "source": [
    "tasks = [\n",
    "    {'name' : 'Write email to Jan', 'completed' : True},\n",
    "    {'name' : 'Sweep front porch', 'completed' : True},\n",
    "    {'name' : 'Call mom', 'completed' : False}\n",
    "]\n",
    "\n",
    "def list_tasks():\n",
    "    for index, task in enumerate(tasks):\n",
    "        print(str.format('{}: {} (Completed: {})', index, task['name'], task['completed']))\n",
    "\n",
    "\n",
    "def add_task():\n",
    "    task_text = input('Please add a task: ')\n",
    "\n",
    "\n",
    "    # Using the above task_text variable, create a dictionary named\n",
    "        # new_task and set completed to False\n",
    "    new_task = {'name': task_text, 'completed': False}\n",
    "\n",
    "\n",
    "\n",
    "    # Then, add new_task to the tasks list\n",
    "    tasks.append(new_task)"
   ]
  },
  {
   "cell_type": "code",
   "execution_count": 7,
   "id": "84c1b9f5-bb62-479b-9e58-e78d89f91c61",
   "metadata": {},
   "outputs": [],
   "source": [
    "# You will need a function to handle removing a task.\n",
    "    # When this function is run, list out the tasks. Hint! There is\n",
    "        # already a function that handles this\n",
    "def remove_task():\n",
    "    list_tasks()\n",
    "\n",
    "    # Here, create a variable that uses input. The user should be\n",
    "        # able to input the index number of the task to be removed.\n",
    "    # Hint! You will need to wrap the input() function within the\n",
    "        # int() function so the user's input is read as a number.\n",
    "    remove_task = int(input(\n",
    "        'Please enter the number of the task to be removed: '))\n",
    "\n",
    "    # Here, delete the task in the tasks list based on the above\n",
    "        # variable\n",
    "    tasks.remove(tasks[remove_task])"
   ]
  },
  {
   "cell_type": "code",
   "execution_count": 8,
   "id": "c23fd60a-b0fc-4b1c-8aca-bd4220e9294a",
   "metadata": {},
   "outputs": [],
   "source": [
    "# You will need a function to handle marking a task complete.\n",
    "    # When this function is run, list out the tasks. Hint! There is a\n",
    "        # function that already does this for you.\n",
    "def complete_task():\n",
    "    list_tasks()\n",
    "\n",
    "    # Here, create a variable that uses input. The user should be\n",
    "        # able to input the index number of the task to be marked\n",
    "        # complete. Hint! You will need to wrap the input() function\n",
    "        # within the int() function so the user's input is read as a\n",
    "        # number.\n",
    "    complete_task = int(input(\n",
    "        'Please enter the number of the task you completed: '))\n",
    "\n",
    "    # Mark the task complete in the tasks list based on the variable\n",
    "        # you created above. Hint! you will need to use two sets of\n",
    "        # square brackets to find the index and set the appropriate\n",
    "        # key to True\n",
    "    tasks[complete_task]['completed'] = True"
   ]
  },
  {
   "cell_type": "code",
   "execution_count": 23,
   "id": "ecc060d4-c773-4fa3-aca7-7c53fc1eea5a",
   "metadata": {},
   "outputs": [
    {
     "name": "stdin",
     "output_type": "stream",
     "text": [
      "\n",
      "====================\n",
      "1. List the tasks\n",
      "2. Add a task\n",
      "3. Remove a task\n",
      "4. Mark task complete\n",
      "5. Quit\n",
      "\n",
      "What would you like to do?  5\n"
     ]
    },
    {
     "name": "stdout",
     "output_type": "stream",
     "text": [
      "Have a nice day!\n"
     ]
    }
   ],
   "source": [
    "menu_text = \"\"\"\n",
    "====================\n",
    "1. List the tasks\n",
    "2. Add a task\n",
    "3. Remove a task\n",
    "4. Mark task complete\n",
    "5. Quit\n",
    "\n",
    "What would you like to do? \"\"\"\n",
    "\n",
    "program_is_running = True\n",
    "\n",
    "while program_is_running:\n",
    "    decision = input(menu_text)\n",
    "    if decision == '1':\n",
    "        list_tasks()\n",
    "\n",
    "    # Add elif statements for inputs 2, 3, and 4\n",
    "    elif decision == '2':\n",
    "        add_task()\n",
    "\n",
    "    elif decision == '3':\n",
    "        remove_task()\n",
    "\n",
    "    elif decision == '4':\n",
    "        complete_task()\n",
    "\n",
    "    elif decision == '5':\n",
    "        program_is_running = False\n",
    "        print('Have a nice day!')\n",
    "\n",
    "    else:\n",
    "        print('please choose a valid option')"
   ]
  },
  {
   "cell_type": "markdown",
   "id": "e563f784-cbda-49fd-9b7f-aa8e9187f9b2",
   "metadata": {},
   "source": [
    "_________\n",
    "### Provided code (*single cell*)"
   ]
  },
  {
   "cell_type": "code",
   "execution_count": 9,
   "id": "a7ae2268-54ed-4b44-8f4d-dd4fc18defd1",
   "metadata": {},
   "outputs": [
    {
     "name": "stdin",
     "output_type": "stream",
     "text": [
      "\n",
      "====================\n",
      "1. List the tasks\n",
      "2. Add a task\n",
      "3. Remove a task\n",
      "4. Mark task complete\n",
      "5. Quit\n",
      "\n",
      "What would you like to do?  5\n"
     ]
    }
   ],
   "source": [
    "tasks = [\n",
    "    {'name' : 'Write email to Jan', 'completed' : True},\n",
    "    {'name' : 'Sweep front porch', 'completed' : True},\n",
    "    {'name' : 'Call mom', 'completed' : False}\n",
    "]\n",
    "\n",
    "def list_tasks():\n",
    "    for index, task in enumerate(tasks):\n",
    "        print(str.format('{}: {} (Completed: {})', index, task['name'], task['completed']))\n",
    "\n",
    "\n",
    "def add_task():\n",
    "    task_text = input('Please add a task: ')\n",
    "\n",
    "    # Using the above task_text variable, create a dictionary named new_task and set completed to False\n",
    "\n",
    "    # Then, add new_task to the tasks list\n",
    "\n",
    "\n",
    "# You will need a function to handle removing a task.\n",
    "    # When this function is run, list out the tasks. Hint! There is already a function that handles this\n",
    "\n",
    "    # Here, create a variable that uses input. The user should be able to input the index number of the task to be removed. Hint! You will need to wrap the input() function within the int() function so the user's input is read as a number.\n",
    "\n",
    "    # Here, delete the task in the tasks list based on the above variable\n",
    "\n",
    "\n",
    "# You will need a function to handle marking a task complete.\n",
    "    # When this function is run, list out the tasks. Hint! There is a function that already does this for you.\n",
    "\n",
    "    # Here, create a variable that uses input. The user should be able to input the index number of the task to be marked complete. Hint! You will need to wrap the input() function within the int() function so the user's input is read as a number.\n",
    "\n",
    "    # Mark the task complete in the tasks list based on the variable you created above. Hint! you will need to use two sets of square brackets to find the index and set the appropriate key to True \n",
    "\n",
    "menu_text = \"\"\"\n",
    "====================\n",
    "1. List the tasks\n",
    "2. Add a task\n",
    "3. Remove a task\n",
    "4. Mark task complete\n",
    "5. Quit\n",
    "\n",
    "What would you like to do? \"\"\"\n",
    "\n",
    "program_is_running = True\n",
    "\n",
    "while program_is_running:\n",
    "    decision = input(menu_text)\n",
    "    if decision == '1':\n",
    "        list_tasks()\n",
    "\n",
    "    # Add elif statements for inputs 2, 3, and 4\n",
    "\n",
    "    elif decision == '5':\n",
    "        program_is_running = False\n",
    "    else:\n",
    "        print('please choose a valid option')"
   ]
  },
  {
   "cell_type": "markdown",
   "id": "d3766ecd-b0fb-4e45-a8ad-4ffcaeb62cd8",
   "metadata": {},
   "source": [
    "______________\n",
    "***From Workshop***"
   ]
  },
  {
   "cell_type": "code",
   "execution_count": 8,
   "id": "f3e94392-d65c-48ae-9914-d688c4c532a4",
   "metadata": {},
   "outputs": [
    {
     "name": "stdin",
     "output_type": "stream",
     "text": [
      "\n",
      "====================\n",
      "1. List the books\n",
      "2. Add a book\n",
      "3. Remove a book\n",
      "4. Mark a book read\n",
      "5. Quit\n",
      "\n",
      "What would you like to do?  1\n"
     ]
    },
    {
     "name": "stdout",
     "output_type": "stream",
     "text": [
      "0: The Jewel (Read: True)\n",
      "1: Cinder (Read: False)\n",
      "2: The Train to Impossible Places (Read: False)\n"
     ]
    },
    {
     "name": "stdin",
     "output_type": "stream",
     "text": [
      "\n",
      "====================\n",
      "1. List the books\n",
      "2. Add a book\n",
      "3. Remove a book\n",
      "4. Mark a book read\n",
      "5. Quit\n",
      "\n",
      "What would you like to do?  2\n",
      "Please add a book:  Harry Potter and the Chamber of Secrets\n",
      "\n",
      "====================\n",
      "1. List the books\n",
      "2. Add a book\n",
      "3. Remove a book\n",
      "4. Mark a book read\n",
      "5. Quit\n",
      "\n",
      "What would you like to do?  1\n"
     ]
    },
    {
     "name": "stdout",
     "output_type": "stream",
     "text": [
      "0: The Jewel (Read: True)\n",
      "1: Cinder (Read: False)\n",
      "2: The Train to Impossible Places (Read: False)\n",
      "3: Harry Potter and the Chamber of Secrets (Read: False)\n"
     ]
    },
    {
     "name": "stdin",
     "output_type": "stream",
     "text": [
      "\n",
      "====================\n",
      "1. List the books\n",
      "2. Add a book\n",
      "3. Remove a book\n",
      "4. Mark a book read\n",
      "5. Quit\n",
      "\n",
      "What would you like to do?  3\n"
     ]
    },
    {
     "name": "stdout",
     "output_type": "stream",
     "text": [
      "0: The Jewel (Read: True)\n",
      "1: Cinder (Read: False)\n",
      "2: The Train to Impossible Places (Read: False)\n",
      "3: Harry Potter and the Chamber of Secrets (Read: False)\n"
     ]
    },
    {
     "name": "stdin",
     "output_type": "stream",
     "text": [
      "Please enter the number of the book to be removed: 0\n",
      "\n",
      "====================\n",
      "1. List the books\n",
      "2. Add a book\n",
      "3. Remove a book\n",
      "4. Mark a book read\n",
      "5. Quit\n",
      "\n",
      "What would you like to do?  4\n"
     ]
    },
    {
     "name": "stdout",
     "output_type": "stream",
     "text": [
      "0: Cinder (Read: False)\n",
      "1: The Train to Impossible Places (Read: False)\n",
      "2: Harry Potter and the Chamber of Secrets (Read: False)\n"
     ]
    },
    {
     "name": "stdin",
     "output_type": "stream",
     "text": [
      "Please enter the number of the book you read: 2\n",
      "\n",
      "====================\n",
      "1. List the books\n",
      "2. Add a book\n",
      "3. Remove a book\n",
      "4. Mark a book read\n",
      "5. Quit\n",
      "\n",
      "What would you like to do?  5\n"
     ]
    },
    {
     "name": "stdout",
     "output_type": "stream",
     "text": [
      "Enjoy the rest of your day\n"
     ]
    }
   ],
   "source": [
    "books = [\n",
    "    {'name' : 'The Jewel', 'read' : True},\n",
    "    {'name' : 'Cinder', 'read' : False},\n",
    "    {'name' : 'The Train to Impossible Places', 'read' : False}\n",
    "]\n",
    "\n",
    "def list_books():\n",
    "    for index, book in enumerate(books):\n",
    "        print(str.format('{}: {} (Read: {})', index, book['name'], book['read']))\n",
    "\n",
    "def add_book():\n",
    "    book_text = input('Please add a book: ')\n",
    "    new_book = {'name': book_text, 'read': False}\n",
    "    books.append(new_book)\n",
    "\n",
    "def remove_book():\n",
    "    list_books()\n",
    "    remove_book = int(input('Please enter the number of the book to be removed:'))\n",
    "    books.remove(books[remove_book])\n",
    "\n",
    "def read_book():\n",
    "    list_books()\n",
    "    read_text = int(input('Please enter the number of the book you read:'))\n",
    "    books[read_text]['read'] = True\n",
    "\n",
    "menu_text = \"\"\"\n",
    "====================\n",
    "1. List the books\n",
    "2. Add a book\n",
    "3. Remove a book\n",
    "4. Mark a book read\n",
    "5. Quit\n",
    "\n",
    "What would you like to do? \"\"\"\n",
    "\n",
    "program_is_running = True\n",
    "\n",
    "while program_is_running:\n",
    "    decision = input(menu_text)\n",
    "    if decision == '1':\n",
    "        list_books()\n",
    "\n",
    "    elif decision == '2':\n",
    "        add_book()\n",
    "    \n",
    "    elif decision == '3':\n",
    "        remove_book()\n",
    "        \n",
    "    elif decision == '4':\n",
    "        read_book()\n",
    "\n",
    "    elif decision == '5':\n",
    "        program_is_running = False\n",
    "        print('Enjoy the rest of your day')\n",
    "        \n",
    "    else:\n",
    "        print('please choose a valid option')"
   ]
  }
 ],
 "metadata": {
  "kernelspec": {
   "display_name": "Python 3 (ipykernel)",
   "language": "python",
   "name": "python3"
  },
  "language_info": {
   "codemirror_mode": {
    "name": "ipython",
    "version": 3
   },
   "file_extension": ".py",
   "mimetype": "text/x-python",
   "name": "python",
   "nbconvert_exporter": "python",
   "pygments_lexer": "ipython3",
   "version": "3.9.13"
  }
 },
 "nbformat": 4,
 "nbformat_minor": 5
}
