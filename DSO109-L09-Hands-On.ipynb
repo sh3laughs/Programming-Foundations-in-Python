{
 "cells": [
  {
   "cell_type": "markdown",
   "id": "01d96d7b-71ce-4125-a5d9-778e55ebed13",
   "metadata": {},
   "source": [
    "## DSO109 - Programming Foundations - Python\n",
    "### Lesson 9 - NumPy\n",
    "______________\n",
    "\n",
    "#### Page 13 - Hands-On"
   ]
  },
  {
   "cell_type": "markdown",
   "id": "72651aa9-7be6-4019-bb80-b5fedad2837c",
   "metadata": {},
   "source": [
    "Please complete the following tasks in a Jupyter Notebook file, using the numpy package:\n",
    "\n",
    "* **Create a five element array using your favorite numbers named myFavorites.**"
   ]
  },
  {
   "cell_type": "code",
   "execution_count": 3,
   "id": "c9be60c8-6534-498a-a994-4d1a2db49cd9",
   "metadata": {
    "tags": []
   },
   "outputs": [],
   "source": [
    "import numpy as np"
   ]
  },
  {
   "cell_type": "code",
   "execution_count": 4,
   "id": "e38959ae-3341-42d7-bbff-6b0bd9f3a5df",
   "metadata": {},
   "outputs": [],
   "source": [
    "myFavorites = np.array([8,11,35,14,4])"
   ]
  },
  {
   "cell_type": "code",
   "execution_count": 5,
   "id": "4cee102a-18e8-49b9-a991-8d0cac5ffe1f",
   "metadata": {},
   "outputs": [
    {
     "data": {
      "text/plain": [
       "array([ 8, 11, 35, 14,  4])"
      ]
     },
     "execution_count": 5,
     "metadata": {},
     "output_type": "execute_result"
    }
   ],
   "source": [
    "myFavorites"
   ]
  },
  {
   "cell_type": "markdown",
   "id": "16e279f4-be5c-48b8-89ad-ce6ccfd43a6f",
   "metadata": {},
   "source": [
    "__________\n",
    "* **Perform each of the five aggregate functions on your array.**"
   ]
  },
  {
   "cell_type": "code",
   "execution_count": 6,
   "id": "2a6b1b56-8bbb-45f2-bb9c-6184328d9292",
   "metadata": {},
   "outputs": [
    {
     "data": {
      "text/plain": [
       "35"
      ]
     },
     "execution_count": 6,
     "metadata": {},
     "output_type": "execute_result"
    }
   ],
   "source": [
    "myFavorites.max()"
   ]
  },
  {
   "cell_type": "code",
   "execution_count": 7,
   "id": "e2645206-35c0-44e0-955b-79eddf6c1814",
   "metadata": {},
   "outputs": [
    {
     "data": {
      "text/plain": [
       "14.4"
      ]
     },
     "execution_count": 7,
     "metadata": {},
     "output_type": "execute_result"
    }
   ],
   "source": [
    "myFavorites.mean()"
   ]
  },
  {
   "cell_type": "code",
   "execution_count": 8,
   "id": "b0e83373-6562-48b3-a734-f9113bb50ec4",
   "metadata": {},
   "outputs": [
    {
     "data": {
      "text/plain": [
       "4"
      ]
     },
     "execution_count": 8,
     "metadata": {},
     "output_type": "execute_result"
    }
   ],
   "source": [
    "myFavorites.min()"
   ]
  },
  {
   "cell_type": "code",
   "execution_count": 9,
   "id": "f6b38c73-89ba-421a-9da4-f841545cf54d",
   "metadata": {},
   "outputs": [
    {
     "data": {
      "text/plain": [
       "10.818502669038818"
      ]
     },
     "execution_count": 9,
     "metadata": {},
     "output_type": "execute_result"
    }
   ],
   "source": [
    "myFavorites.std()"
   ]
  },
  {
   "cell_type": "code",
   "execution_count": 10,
   "id": "6b573c5c-679a-4046-8b24-4783835e1afa",
   "metadata": {},
   "outputs": [
    {
     "data": {
      "text/plain": [
       "72"
      ]
     },
     "execution_count": 10,
     "metadata": {},
     "output_type": "execute_result"
    }
   ],
   "source": [
    "myFavorites.sum()"
   ]
  },
  {
   "cell_type": "markdown",
   "id": "cce64d3b-6c01-4dfa-b5b6-8dc7510cebe5",
   "metadata": {},
   "source": [
    "__________\n",
    "* **Create a five element array containing only ones named `OneArrayToRuleThemAll`.**"
   ]
  },
  {
   "cell_type": "code",
   "execution_count": 12,
   "id": "1de8ca25-4431-4b0c-9de3-633cc8bee857",
   "metadata": {},
   "outputs": [],
   "source": [
    "OneArrayToRuleThemAll = np.ones(5)"
   ]
  },
  {
   "cell_type": "code",
   "execution_count": 13,
   "id": "cb3d33fd-1baf-4006-bdab-185f7a36313c",
   "metadata": {},
   "outputs": [
    {
     "data": {
      "text/plain": [
       "array([1., 1., 1., 1., 1.])"
      ]
     },
     "execution_count": 13,
     "metadata": {},
     "output_type": "execute_result"
    }
   ],
   "source": [
    "OneArrayToRuleThemAll"
   ]
  },
  {
   "cell_type": "markdown",
   "id": "ff451923-b51f-4209-9845-ce69904a0941",
   "metadata": {},
   "source": [
    "__________\n",
    "* **Add `myFavorites` and `OneArrayToRuleThemAll`.**"
   ]
  },
  {
   "cell_type": "code",
   "execution_count": 14,
   "id": "64154516-d381-4788-b6e5-5751ee6ff81c",
   "metadata": {},
   "outputs": [
    {
     "data": {
      "text/plain": [
       "array([ 9., 12., 36., 15.,  5.])"
      ]
     },
     "execution_count": 14,
     "metadata": {},
     "output_type": "execute_result"
    }
   ],
   "source": [
    "myFavorites + OneArrayToRuleThemAll"
   ]
  },
  {
   "cell_type": "markdown",
   "id": "a0340217-39c3-4dab-bf30-0aa21642094f",
   "metadata": {},
   "source": [
    "__________\n",
    "* **Multiply every element in `myFavorites` by two.**"
   ]
  },
  {
   "cell_type": "code",
   "execution_count": 15,
   "id": "3de1f52a-69f9-4820-805c-0565335f0a89",
   "metadata": {},
   "outputs": [
    {
     "data": {
      "text/plain": [
       "array([16, 22, 70, 28,  8])"
      ]
     },
     "execution_count": 15,
     "metadata": {},
     "output_type": "execute_result"
    }
   ],
   "source": [
    "myFavorites * 2"
   ]
  },
  {
   "cell_type": "markdown",
   "id": "b5c73ee1-62fe-4ddd-b7e1-7a6988ce9017",
   "metadata": {},
   "source": [
    "__________\n",
    "* **Call the third element in `myFavorites` using indexing.**"
   ]
  },
  {
   "cell_type": "code",
   "execution_count": 16,
   "id": "b04f0637-7503-4215-9720-f1c695bb2398",
   "metadata": {},
   "outputs": [
    {
     "data": {
      "text/plain": [
       "35"
      ]
     },
     "execution_count": 16,
     "metadata": {},
     "output_type": "execute_result"
    }
   ],
   "source": [
    "myFavorites[2]"
   ]
  },
  {
   "cell_type": "markdown",
   "id": "36632340-ee8e-4951-82b4-427fc3d8970d",
   "metadata": {},
   "source": [
    "__________\n",
    "* **Create a four element, two-by-two matrix of numbers named `TheMatrixHasYou`.**"
   ]
  },
  {
   "cell_type": "code",
   "execution_count": 17,
   "id": "d0ad0a16-af9b-4f01-9d88-91f17de3352a",
   "metadata": {},
   "outputs": [],
   "source": [
    "TheMatrixHasYou = np.array([[1, 2], [3, 4]])"
   ]
  },
  {
   "cell_type": "code",
   "execution_count": 18,
   "id": "bbbcfa2f-6fa4-41a2-af8b-d2e361df6b62",
   "metadata": {},
   "outputs": [
    {
     "data": {
      "text/plain": [
       "array([[1, 2],\n",
       "       [3, 4]])"
      ]
     },
     "execution_count": 18,
     "metadata": {},
     "output_type": "execute_result"
    }
   ],
   "source": [
    "TheMatrixHasYou"
   ]
  },
  {
   "cell_type": "markdown",
   "id": "6d8c0116-050a-41b6-a9ed-3b333896485a",
   "metadata": {},
   "source": [
    "__________\n",
    "* **Access the upper left element in `TheMatrixHasYou` using indexing.**"
   ]
  },
  {
   "cell_type": "code",
   "execution_count": 19,
   "id": "4a554304-802d-44d6-ab48-ae0bf8a30a38",
   "metadata": {},
   "outputs": [
    {
     "data": {
      "text/plain": [
       "1"
      ]
     },
     "execution_count": 19,
     "metadata": {},
     "output_type": "execute_result"
    }
   ],
   "source": [
    "TheMatrixHasYou[0, 0]"
   ]
  },
  {
   "cell_type": "markdown",
   "id": "7241c9a2-45ea-4ee7-8f62-f282b3963af8",
   "metadata": {},
   "source": [
    "__________\n",
    "* **Find the largest number in each row for `TheMatrixHasYou`.**"
   ]
  },
  {
   "cell_type": "code",
   "execution_count": 20,
   "id": "3a0d1cad-f01e-46ff-845f-386a5ec285fe",
   "metadata": {},
   "outputs": [
    {
     "data": {
      "text/plain": [
       "array([2, 4])"
      ]
     },
     "execution_count": 20,
     "metadata": {},
     "output_type": "execute_result"
    }
   ],
   "source": [
    "TheMatrixHasYou.max(axis=1)"
   ]
  },
  {
   "cell_type": "markdown",
   "id": "955d828f-f5ca-42ee-9a61-14459b7ca42f",
   "metadata": {},
   "source": [
    "__________\n",
    "* **Reshape `TheMatrixHasYou` into a matrix with one row and four columns.**"
   ]
  },
  {
   "cell_type": "code",
   "execution_count": 22,
   "id": "5d2854fe-3bd8-4bc6-8467-63ffc85058d4",
   "metadata": {},
   "outputs": [
    {
     "data": {
      "text/plain": [
       "array([[1, 2, 3, 4]])"
      ]
     },
     "execution_count": 22,
     "metadata": {},
     "output_type": "execute_result"
    }
   ],
   "source": [
    "TheMatrixHasYou.reshape(1,4)"
   ]
  }
 ],
 "metadata": {
  "kernelspec": {
   "display_name": "Python 3 (ipykernel)",
   "language": "python",
   "name": "python3"
  },
  "language_info": {
   "codemirror_mode": {
    "name": "ipython",
    "version": 3
   },
   "file_extension": ".py",
   "mimetype": "text/x-python",
   "name": "python",
   "nbconvert_exporter": "python",
   "pygments_lexer": "ipython3",
   "version": "3.9.13"
  }
 },
 "nbformat": 4,
 "nbformat_minor": 5
}
