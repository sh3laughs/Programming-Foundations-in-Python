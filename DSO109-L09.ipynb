{
 "cells": [
  {
   "cell_type": "markdown",
   "id": "494a1837-f35e-4d16-a707-2962ab8ae3c9",
   "metadata": {},
   "source": [
    "## DSO109 - Programming Foundations - Python\n",
    "### Lesson 9 - NumPy\n",
    "______________\n",
    "\n",
    "#### Page 1 - Introduction"
   ]
  },
  {
   "cell_type": "markdown",
   "id": "52ba6840-8096-4846-aac6-78a98227cfa1",
   "metadata": {},
   "source": [
    "______________\n",
    "***From Workshop***"
   ]
  },
  {
   "cell_type": "markdown",
   "id": "44e5b274-a8a5-48dc-a380-3f82a5b82814",
   "metadata": {},
   "source": [
    "**Import packages**"
   ]
  },
  {
   "cell_type": "code",
   "execution_count": 1,
   "id": "e6fa3955-0210-4126-8ce4-7413cbe0a19e",
   "metadata": {},
   "outputs": [],
   "source": [
    "import numpy as np"
   ]
  },
  {
   "cell_type": "markdown",
   "id": "a94c2487-2f62-4a9a-83b5-defd82b82b7b",
   "metadata": {},
   "source": [
    "**Create a 5 element array**"
   ]
  },
  {
   "cell_type": "code",
   "execution_count": 2,
   "id": "4817bce3-2287-4280-8deb-7ff95581c4fd",
   "metadata": {},
   "outputs": [],
   "source": [
    "array5 = np.array([7, 2, 1, 4, 9])"
   ]
  },
  {
   "cell_type": "code",
   "execution_count": 3,
   "id": "ee2ca6b5-d86b-4eac-8f79-e50b08614916",
   "metadata": {},
   "outputs": [
    {
     "data": {
      "text/plain": [
       "array([7, 2, 1, 4, 9])"
      ]
     },
     "execution_count": 3,
     "metadata": {},
     "output_type": "execute_result"
    }
   ],
   "source": [
    "array5"
   ]
  },
  {
   "cell_type": "markdown",
   "id": "1ac70cf2-fabe-4bd0-866f-f4412589e960",
   "metadata": {},
   "source": [
    "**Aggregate functions**"
   ]
  },
  {
   "cell_type": "code",
   "execution_count": 4,
   "id": "bbaff8e5-165d-4f63-8ea5-a89c71040aa3",
   "metadata": {},
   "outputs": [
    {
     "data": {
      "text/plain": [
       "1"
      ]
     },
     "execution_count": 4,
     "metadata": {},
     "output_type": "execute_result"
    }
   ],
   "source": [
    "array5.min()"
   ]
  },
  {
   "cell_type": "code",
   "execution_count": 5,
   "id": "df1ca156-6c8f-415d-ba33-149f04b56b84",
   "metadata": {},
   "outputs": [
    {
     "data": {
      "text/plain": [
       "9"
      ]
     },
     "execution_count": 5,
     "metadata": {},
     "output_type": "execute_result"
    }
   ],
   "source": [
    "array5.max()"
   ]
  },
  {
   "cell_type": "code",
   "execution_count": 6,
   "id": "64d1ad64-0fcf-459a-b292-3cb55dd5b80c",
   "metadata": {},
   "outputs": [
    {
     "data": {
      "text/plain": [
       "23"
      ]
     },
     "execution_count": 6,
     "metadata": {},
     "output_type": "execute_result"
    }
   ],
   "source": [
    "array5.sum()"
   ]
  },
  {
   "cell_type": "code",
   "execution_count": 7,
   "id": "1ea093a4-921a-49d9-a020-bfc8d5e7d8b7",
   "metadata": {},
   "outputs": [
    {
     "data": {
      "text/plain": [
       "4.6"
      ]
     },
     "execution_count": 7,
     "metadata": {},
     "output_type": "execute_result"
    }
   ],
   "source": [
    "array5.mean()"
   ]
  },
  {
   "cell_type": "code",
   "execution_count": 8,
   "id": "d361d27a-10cb-4a76-84a0-f54ec25acb95",
   "metadata": {},
   "outputs": [
    {
     "data": {
      "text/plain": [
       "3.006659275674582"
      ]
     },
     "execution_count": 8,
     "metadata": {},
     "output_type": "execute_result"
    }
   ],
   "source": [
    "array5.std()"
   ]
  },
  {
   "cell_type": "markdown",
   "id": "5d3fdd3c-c589-4a01-bc7b-b423fa8b9070",
   "metadata": {},
   "source": [
    "**Create an array of only 1's**"
   ]
  },
  {
   "cell_type": "code",
   "execution_count": 9,
   "id": "0de2e39a-d3a5-4d73-98b1-36ecc5494c72",
   "metadata": {},
   "outputs": [],
   "source": [
    "the1s = np.ones(5)"
   ]
  },
  {
   "cell_type": "code",
   "execution_count": 10,
   "id": "acd74c08-28f5-4c34-a70c-f0c2a3b036df",
   "metadata": {},
   "outputs": [
    {
     "data": {
      "text/plain": [
       "array([1., 1., 1., 1., 1.])"
      ]
     },
     "execution_count": 10,
     "metadata": {},
     "output_type": "execute_result"
    }
   ],
   "source": [
    "the1s"
   ]
  },
  {
   "cell_type": "markdown",
   "id": "f6687dd5-3208-4152-be55-a65e3170ffcf",
   "metadata": {},
   "source": [
    "*Note: why on earth is this a function ?!*"
   ]
  },
  {
   "cell_type": "markdown",
   "id": "035e096e-bb56-4a3c-935f-be0bdc7c5360",
   "metadata": {},
   "source": [
    "**Add arrays together**"
   ]
  },
  {
   "cell_type": "code",
   "execution_count": 11,
   "id": "b546e600-28a4-443b-b6d3-df738095f74a",
   "metadata": {},
   "outputs": [
    {
     "data": {
      "text/plain": [
       "array([ 8.,  3.,  2.,  5., 10.])"
      ]
     },
     "execution_count": 11,
     "metadata": {},
     "output_type": "execute_result"
    }
   ],
   "source": [
    "array5 + the1s"
   ]
  },
  {
   "cell_type": "markdown",
   "id": "27e1a63a-889e-4dbc-b1b3-8118b634a72f",
   "metadata": {},
   "source": [
    "**Multiply array by 4**"
   ]
  },
  {
   "cell_type": "code",
   "execution_count": 12,
   "id": "2060ffe1-fa8b-4261-af17-465744721ac3",
   "metadata": {},
   "outputs": [
    {
     "data": {
      "text/plain": [
       "array([28,  8,  4, 16, 36])"
      ]
     },
     "execution_count": 12,
     "metadata": {},
     "output_type": "execute_result"
    }
   ],
   "source": [
    "array5 *4"
   ]
  },
  {
   "cell_type": "markdown",
   "id": "d3cc338d-05cf-4f76-8641-fb7f57ebe93e",
   "metadata": {},
   "source": [
    "**Call the 4th element using indexing**"
   ]
  },
  {
   "cell_type": "code",
   "execution_count": 13,
   "id": "7b47e54e-2810-42f2-a54c-49bce3d60360",
   "metadata": {},
   "outputs": [
    {
     "data": {
      "text/plain": [
       "4"
      ]
     },
     "execution_count": 13,
     "metadata": {},
     "output_type": "execute_result"
    }
   ],
   "source": [
    "array5[3]"
   ]
  },
  {
   "cell_type": "markdown",
   "id": "55e7c670-d367-41e2-a262-3e9cd325e270",
   "metadata": {},
   "source": [
    "**Create an 8 element, 4x2 matrix**"
   ]
  },
  {
   "cell_type": "code",
   "execution_count": 14,
   "id": "764fc411-7245-4ea2-9ada-6acb1b3b811b",
   "metadata": {},
   "outputs": [],
   "source": [
    "matrixMeCrazy = np.array([[1, 2, 3, 4], [5, 6, 7, 8]])"
   ]
  },
  {
   "cell_type": "code",
   "execution_count": 15,
   "id": "2d31f53c-3462-476d-9836-8569a87cbb8d",
   "metadata": {},
   "outputs": [
    {
     "data": {
      "text/plain": [
       "array([[1, 2, 3, 4],\n",
       "       [5, 6, 7, 8]])"
      ]
     },
     "execution_count": 15,
     "metadata": {},
     "output_type": "execute_result"
    }
   ],
   "source": [
    "matrixMeCrazy"
   ]
  },
  {
   "cell_type": "markdown",
   "id": "17c6b51d-1d02-49ee-a15c-7101396148f8",
   "metadata": {},
   "source": [
    "**Access the bottom right element**"
   ]
  },
  {
   "cell_type": "code",
   "execution_count": 16,
   "id": "a5844116-e495-414c-a4d0-333283db6881",
   "metadata": {},
   "outputs": [
    {
     "data": {
      "text/plain": [
       "8"
      ]
     },
     "execution_count": 16,
     "metadata": {},
     "output_type": "execute_result"
    }
   ],
   "source": [
    "matrixMeCrazy[1,3]"
   ]
  },
  {
   "cell_type": "markdown",
   "id": "c2a24a4e-7dd6-4160-81bb-c295629753a8",
   "metadata": {},
   "source": [
    "**Reshape the matrix to 2x4**"
   ]
  },
  {
   "cell_type": "code",
   "execution_count": 17,
   "id": "a96b7c09-b78a-4bf4-82d2-9fa4164ac78f",
   "metadata": {},
   "outputs": [
    {
     "data": {
      "text/plain": [
       "array([[1, 2],\n",
       "       [3, 4],\n",
       "       [5, 6],\n",
       "       [7, 8]])"
      ]
     },
     "execution_count": 17,
     "metadata": {},
     "output_type": "execute_result"
    }
   ],
   "source": [
    "matrixMeCrazy.reshape(4, 2)"
   ]
  },
  {
   "cell_type": "markdown",
   "id": "12d1ebb6-a8bb-4ce3-9d6e-4c4116b067dd",
   "metadata": {},
   "source": [
    "***Reshape again***"
   ]
  },
  {
   "cell_type": "code",
   "execution_count": 18,
   "id": "d23157a6-2aa7-4ddd-aa08-ca03801d781f",
   "metadata": {},
   "outputs": [
    {
     "data": {
      "text/plain": [
       "array([[1],\n",
       "       [2],\n",
       "       [3],\n",
       "       [4],\n",
       "       [5],\n",
       "       [6],\n",
       "       [7],\n",
       "       [8]])"
      ]
     },
     "execution_count": 18,
     "metadata": {},
     "output_type": "execute_result"
    }
   ],
   "source": [
    "matrixMeCrazy.reshape(8, 1)"
   ]
  },
  {
   "cell_type": "markdown",
   "id": "cf3b57e8-73d3-4762-aa03-da6112c02847",
   "metadata": {},
   "source": [
    "***Reshape to get an error***"
   ]
  },
  {
   "cell_type": "code",
   "execution_count": 19,
   "id": "463a8ba2-9ddb-4e97-9d15-ed67cc160697",
   "metadata": {},
   "outputs": [],
   "source": [
    "# matrixMeCrazy.reshape(4, 1)"
   ]
  },
  {
   "cell_type": "markdown",
   "id": "1cf6fa60-79ae-40c1-b8e2-154be1607817",
   "metadata": {},
   "source": [
    "*Commented out after receiving error:*\n",
    "\n",
    "---------------------------------------------------------------------------\n",
    "ValueError                                Traceback (most recent call last)\n",
    "/var/folders/zg/fxyw2v_910lgtrr94rf2vw0c0000gs/T/ipykernel_42939/2157460842.py in <module>\n",
    "----> 1 matrixMeCrazy.reshape(4, 1)\n",
    "\n",
    "ValueError: cannot reshape array of size 8 into shape (4,1)"
   ]
  },
  {
   "cell_type": "markdown",
   "id": "b1c927bc-967e-46f3-b4ae-f849b41bdc81",
   "metadata": {},
   "source": [
    "______________\n",
    "\n",
    "#### Page 2 - NumPy Arrays"
   ]
  },
  {
   "cell_type": "code",
   "execution_count": 20,
   "id": "3afa6a26-70f4-4d0e-9a22-197f3ec88bec",
   "metadata": {},
   "outputs": [],
   "source": [
    "import numpy as np"
   ]
  },
  {
   "cell_type": "code",
   "execution_count": 21,
   "id": "2fa89ee4-c0f5-4960-9f93-9d41df8b8085",
   "metadata": {},
   "outputs": [],
   "source": [
    "myArray = np.array([7, 2, 1])"
   ]
  },
  {
   "cell_type": "code",
   "execution_count": 22,
   "id": "a900483a-05d8-4b42-a400-cc127805635f",
   "metadata": {},
   "outputs": [
    {
     "data": {
      "text/plain": [
       "array([7, 2, 1])"
      ]
     },
     "execution_count": 22,
     "metadata": {},
     "output_type": "execute_result"
    }
   ],
   "source": [
    "myArray"
   ]
  },
  {
   "cell_type": "code",
   "execution_count": 23,
   "id": "51701416-614e-497e-a809-127779b89417",
   "metadata": {},
   "outputs": [
    {
     "name": "stdout",
     "output_type": "stream",
     "text": [
      "[7 2 1]\n"
     ]
    }
   ],
   "source": [
    "print(myArray)"
   ]
  },
  {
   "cell_type": "markdown",
   "id": "9b6e09e6-f41a-41ed-b435-64697104ea5c",
   "metadata": {},
   "source": [
    "______________\n",
    "\n",
    "#### Page 3 - Aggregate Functions on Arrays"
   ]
  },
  {
   "cell_type": "markdown",
   "id": "08ef9bf6-4887-4797-b3b8-36095f1e714e",
   "metadata": {},
   "source": [
    "**.max() function**"
   ]
  },
  {
   "cell_type": "code",
   "execution_count": 24,
   "id": "2f0be5da-b42b-43cb-88f9-9eac0e871e79",
   "metadata": {},
   "outputs": [
    {
     "data": {
      "text/plain": [
       "7"
      ]
     },
     "execution_count": 24,
     "metadata": {},
     "output_type": "execute_result"
    }
   ],
   "source": [
    "myArray.max()"
   ]
  },
  {
   "cell_type": "markdown",
   "id": "cf0e4c47-8222-45b5-b7a4-eef6f75ec232",
   "metadata": {
    "tags": []
   },
   "source": [
    "**.min() function**"
   ]
  },
  {
   "cell_type": "code",
   "execution_count": 25,
   "id": "44094d14-1680-43ff-a44e-3b0c535e225f",
   "metadata": {},
   "outputs": [
    {
     "data": {
      "text/plain": [
       "1"
      ]
     },
     "execution_count": 25,
     "metadata": {},
     "output_type": "execute_result"
    }
   ],
   "source": [
    "myArray.min()"
   ]
  },
  {
   "cell_type": "markdown",
   "id": "76d9e9f4-9375-493f-9a52-c28ae7871e23",
   "metadata": {},
   "source": [
    "**.mean() function**"
   ]
  },
  {
   "cell_type": "code",
   "execution_count": 26,
   "id": "0c3db831-f8cd-4a29-8fa9-c8d4c1960ab4",
   "metadata": {},
   "outputs": [
    {
     "data": {
      "text/plain": [
       "3.3333333333333335"
      ]
     },
     "execution_count": 26,
     "metadata": {},
     "output_type": "execute_result"
    }
   ],
   "source": [
    "myArray.mean()"
   ]
  },
  {
   "cell_type": "markdown",
   "id": "5c77ad87-496d-42a6-ba5a-1d80e80291cd",
   "metadata": {},
   "source": [
    "**.std() function**"
   ]
  },
  {
   "cell_type": "code",
   "execution_count": 27,
   "id": "3ddf1bb8-3ca7-4869-9ad6-f9d792cf35a4",
   "metadata": {},
   "outputs": [
    {
     "data": {
      "text/plain": [
       "2.6246692913372702"
      ]
     },
     "execution_count": 27,
     "metadata": {},
     "output_type": "execute_result"
    }
   ],
   "source": [
    "myArray.std()"
   ]
  },
  {
   "cell_type": "markdown",
   "id": "80ed94b4-8e6e-4984-a2cc-871c24871c9a",
   "metadata": {},
   "source": [
    "**.sum(max) function**"
   ]
  },
  {
   "cell_type": "code",
   "execution_count": 28,
   "id": "8cb8c9d7-02a5-4524-a6b3-a8fe86571caa",
   "metadata": {},
   "outputs": [
    {
     "data": {
      "text/plain": [
       "10"
      ]
     },
     "execution_count": 28,
     "metadata": {},
     "output_type": "execute_result"
    }
   ],
   "source": [
    "myArray.sum()"
   ]
  },
  {
   "cell_type": "markdown",
   "id": "ce931203-2c13-45e9-b3e5-b5a9206d407b",
   "metadata": {},
   "source": [
    "____________\n",
    "#### Page 4 - Data Generation with NumPy"
   ]
  },
  {
   "cell_type": "markdown",
   "id": "32db5fb9-93ca-44c4-94ee-2ad7476b1901",
   "metadata": {},
   "source": [
    "**Generating Random Numbers**"
   ]
  },
  {
   "cell_type": "code",
   "execution_count": 29,
   "id": "e8690772-91f6-4afe-8583-6c62957b04da",
   "metadata": {},
   "outputs": [],
   "source": [
    "randomNums = np.random.random(1)"
   ]
  },
  {
   "cell_type": "code",
   "execution_count": 30,
   "id": "b4db32c5-707e-453c-922e-3260a3338a9f",
   "metadata": {},
   "outputs": [
    {
     "data": {
      "text/plain": [
       "array([0.40305355])"
      ]
     },
     "execution_count": 30,
     "metadata": {},
     "output_type": "execute_result"
    }
   ],
   "source": [
    "randomNums"
   ]
  },
  {
   "cell_type": "markdown",
   "id": "47cdaaa2-c7a1-4df6-ba26-f456a75f3e98",
   "metadata": {},
   "source": [
    "**Generating Specific Numbers**"
   ]
  },
  {
   "cell_type": "code",
   "execution_count": 31,
   "id": "4190fd01-83fe-4c08-824e-fed3714a20ba",
   "metadata": {},
   "outputs": [],
   "source": [
    "all1s = np.ones(7)"
   ]
  },
  {
   "cell_type": "code",
   "execution_count": 32,
   "id": "690d4cf1-bd15-4e11-bda1-9a6e5ce17e22",
   "metadata": {},
   "outputs": [
    {
     "data": {
      "text/plain": [
       "array([1., 1., 1., 1., 1., 1., 1.])"
      ]
     },
     "execution_count": 32,
     "metadata": {},
     "output_type": "execute_result"
    }
   ],
   "source": [
    "all1s"
   ]
  },
  {
   "cell_type": "code",
   "execution_count": 33,
   "id": "f6e2adc0-71a2-4705-80f4-4b87dce3e445",
   "metadata": {},
   "outputs": [],
   "source": [
    "all0s = np.zeros(2)"
   ]
  },
  {
   "cell_type": "code",
   "execution_count": 34,
   "id": "4d95066b-21ac-48e0-ade5-26c73852ccaa",
   "metadata": {},
   "outputs": [
    {
     "data": {
      "text/plain": [
       "array([0., 0.])"
      ]
     },
     "execution_count": 34,
     "metadata": {},
     "output_type": "execute_result"
    }
   ],
   "source": [
    "all0s"
   ]
  },
  {
   "cell_type": "markdown",
   "id": "2e888ed3-6bba-4dc3-898f-78af6f4e2ba1",
   "metadata": {},
   "source": [
    "___________\n",
    "#### Page 5 - Arithmetic with Arrays"
   ]
  },
  {
   "cell_type": "markdown",
   "id": "2c0306b2-bd27-4830-94a4-dc626afa7da1",
   "metadata": {},
   "source": [
    "**Arithmetic with 2 arrays**"
   ]
  },
  {
   "cell_type": "code",
   "execution_count": 35,
   "id": "6001db4b-3856-4ec3-ae68-aa7ca8dfb8af",
   "metadata": {},
   "outputs": [],
   "source": [
    "my2ndArray = np.array([1, 2, 7])"
   ]
  },
  {
   "cell_type": "markdown",
   "id": "8bd4898c-d4d0-40c1-b157-8e01f612959d",
   "metadata": {},
   "source": [
    "***Adding***"
   ]
  },
  {
   "cell_type": "code",
   "execution_count": 36,
   "id": "9516a2e7-abee-4b15-94fd-790268fa44ba",
   "metadata": {},
   "outputs": [
    {
     "data": {
      "text/plain": [
       "array([8, 4, 8])"
      ]
     },
     "execution_count": 36,
     "metadata": {},
     "output_type": "execute_result"
    }
   ],
   "source": [
    "myArray + my2ndArray"
   ]
  },
  {
   "cell_type": "markdown",
   "id": "3f5367ab-0050-45a3-8d35-3320bcc005f6",
   "metadata": {},
   "source": [
    "*If you're feeling doubtful, try it longhand yourself once. my_first_array contains the values 7, 2, and 1. my_second_array contains the values 1, 2, and 7. So, 7 (from the first array) plus 1 (from the second array) is 8. Similarly, 2 from the first array and 2 from the second array make 4. Lastly, 1 from the first array and 7 from the second array added together make 8 once more.*"
   ]
  },
  {
   "cell_type": "code",
   "execution_count": 37,
   "id": "1916c446-f776-4701-a37c-01438384d657",
   "metadata": {},
   "outputs": [],
   "source": [
    "arraySummed = myArray + my2ndArray"
   ]
  },
  {
   "cell_type": "code",
   "execution_count": 38,
   "id": "3f67422f-1060-4454-8109-edf06677170e",
   "metadata": {},
   "outputs": [
    {
     "data": {
      "text/plain": [
       "array([8, 4, 8])"
      ]
     },
     "execution_count": 38,
     "metadata": {},
     "output_type": "execute_result"
    }
   ],
   "source": [
    "arraySummed"
   ]
  },
  {
   "cell_type": "markdown",
   "id": "fbae65c1-911e-41c1-9fdd-2beebd886220",
   "metadata": {},
   "source": [
    "***Subtracting***"
   ]
  },
  {
   "cell_type": "code",
   "execution_count": 39,
   "id": "59cc0eb9-3168-4bad-9443-534c6b04656c",
   "metadata": {},
   "outputs": [],
   "source": [
    "arraySubtracted = myArray - my2ndArray"
   ]
  },
  {
   "cell_type": "code",
   "execution_count": 40,
   "id": "a9c6b7c9-f5ad-4aa3-8e23-abf1f60f8b23",
   "metadata": {},
   "outputs": [
    {
     "data": {
      "text/plain": [
       "array([ 6,  0, -6])"
      ]
     },
     "execution_count": 40,
     "metadata": {},
     "output_type": "execute_result"
    }
   ],
   "source": [
    "arraySubtracted"
   ]
  },
  {
   "cell_type": "markdown",
   "id": "faae4409-bf01-4ddc-9e68-de354b3c7875",
   "metadata": {},
   "source": [
    "***Multiplying***"
   ]
  },
  {
   "cell_type": "code",
   "execution_count": 41,
   "id": "2d426e7d-2386-43b0-b06c-42b1432f9e6f",
   "metadata": {},
   "outputs": [],
   "source": [
    "arrayMultiplied = myArray * my2ndArray"
   ]
  },
  {
   "cell_type": "code",
   "execution_count": 42,
   "id": "4af57471-21d9-48b8-a73b-663d5386eba1",
   "metadata": {},
   "outputs": [
    {
     "data": {
      "text/plain": [
       "array([7, 4, 7])"
      ]
     },
     "execution_count": 42,
     "metadata": {},
     "output_type": "execute_result"
    }
   ],
   "source": [
    "arrayMultiplied"
   ]
  },
  {
   "cell_type": "markdown",
   "id": "48f939b8-b721-4658-858b-0df101cd395d",
   "metadata": {},
   "source": [
    "***Dividing***"
   ]
  },
  {
   "cell_type": "code",
   "execution_count": 43,
   "id": "60d71e71-4d8e-4566-b251-9adf2f2bb4c7",
   "metadata": {},
   "outputs": [],
   "source": [
    "arrayDivided = myArray / my2ndArray"
   ]
  },
  {
   "cell_type": "code",
   "execution_count": 44,
   "id": "2174a2a5-8f87-4fc8-9c13-68bf1df3b79f",
   "metadata": {},
   "outputs": [
    {
     "data": {
      "text/plain": [
       "array([7.        , 1.        , 0.14285714])"
      ]
     },
     "execution_count": 44,
     "metadata": {},
     "output_type": "execute_result"
    }
   ],
   "source": [
    "arrayDivided"
   ]
  },
  {
   "cell_type": "markdown",
   "id": "c9f9a0ff-830c-4c6b-9106-a5be214a2afe",
   "metadata": {},
   "source": [
    "**Arithmetic on 1 array**"
   ]
  },
  {
   "cell_type": "markdown",
   "id": "5e84c26e-7875-4189-9e6f-99193b1d7af0",
   "metadata": {},
   "source": [
    "***Multiplying***"
   ]
  },
  {
   "cell_type": "code",
   "execution_count": 45,
   "id": "134357d4-0bac-4fb4-a41d-3e4d282bea6d",
   "metadata": {},
   "outputs": [],
   "source": [
    "times4 = myArray * 4"
   ]
  },
  {
   "cell_type": "code",
   "execution_count": 46,
   "id": "df2bcc49-d0e5-4062-9708-e8a338127a11",
   "metadata": {},
   "outputs": [
    {
     "data": {
      "text/plain": [
       "array([28,  8,  4])"
      ]
     },
     "execution_count": 46,
     "metadata": {},
     "output_type": "execute_result"
    }
   ],
   "source": [
    "times4"
   ]
  },
  {
   "cell_type": "markdown",
   "id": "16ea69a8-c35e-4b60-abd5-8340efd24d9b",
   "metadata": {},
   "source": [
    "***Dividing***"
   ]
  },
  {
   "cell_type": "code",
   "execution_count": 47,
   "id": "9596bc9c-100b-4904-965c-026ab62c61a4",
   "metadata": {},
   "outputs": [],
   "source": [
    "dividedBy4 = myArray / 4"
   ]
  },
  {
   "cell_type": "code",
   "execution_count": 48,
   "id": "641e54d0-e8bb-4d76-8d25-9fbf5d7779ba",
   "metadata": {},
   "outputs": [
    {
     "data": {
      "text/plain": [
       "array([1.75, 0.5 , 0.25])"
      ]
     },
     "execution_count": 48,
     "metadata": {},
     "output_type": "execute_result"
    }
   ],
   "source": [
    "dividedBy4"
   ]
  },
  {
   "cell_type": "markdown",
   "id": "44f670d1-2d6e-43ff-a9d2-e8fd1f198673",
   "metadata": {},
   "source": [
    "***Adding***"
   ]
  },
  {
   "cell_type": "code",
   "execution_count": 49,
   "id": "f942e66d-fd12-4f96-ab4e-2a0d2acf646b",
   "metadata": {},
   "outputs": [],
   "source": [
    "plus4 = myArray + 4"
   ]
  },
  {
   "cell_type": "code",
   "execution_count": 50,
   "id": "312c34f1-9d85-40c0-9630-cb684820695b",
   "metadata": {},
   "outputs": [
    {
     "data": {
      "text/plain": [
       "array([11,  6,  5])"
      ]
     },
     "execution_count": 50,
     "metadata": {},
     "output_type": "execute_result"
    }
   ],
   "source": [
    "plus4"
   ]
  },
  {
   "cell_type": "markdown",
   "id": "7e7942cc-6338-46b4-87ae-607923fe4834",
   "metadata": {},
   "source": [
    "***Subtracting***"
   ]
  },
  {
   "cell_type": "code",
   "execution_count": 51,
   "id": "1e47aac5-3919-4627-a5dc-c6bd68a33793",
   "metadata": {},
   "outputs": [],
   "source": [
    "minus4 = myArray - 4"
   ]
  },
  {
   "cell_type": "code",
   "execution_count": 52,
   "id": "a3327c5b-8d9f-4cdd-ac0b-879c9e4dcb0b",
   "metadata": {},
   "outputs": [
    {
     "data": {
      "text/plain": [
       "array([ 3, -2, -3])"
      ]
     },
     "execution_count": 52,
     "metadata": {},
     "output_type": "execute_result"
    }
   ],
   "source": [
    "minus4"
   ]
  },
  {
   "cell_type": "markdown",
   "id": "9388c6d7-468c-4f2d-8752-7b678b787ffc",
   "metadata": {},
   "source": [
    "____________\n",
    "### Page 6 - Indexing on Arrays"
   ]
  },
  {
   "cell_type": "code",
   "execution_count": 54,
   "id": "b15129db-9a06-447a-824a-cbcc93304747",
   "metadata": {},
   "outputs": [
    {
     "data": {
      "text/plain": [
       "7"
      ]
     },
     "execution_count": 54,
     "metadata": {},
     "output_type": "execute_result"
    }
   ],
   "source": [
    "myArray[0]"
   ]
  },
  {
   "cell_type": "markdown",
   "id": "7cb0ba96-2974-42be-8127-5cda7f23d04e",
   "metadata": {},
   "source": [
    "**Accessing Multiple Numbers in an Array**"
   ]
  },
  {
   "cell_type": "code",
   "execution_count": 55,
   "id": "103652c6-3844-4dd3-bf9c-d1b0beb24f42",
   "metadata": {},
   "outputs": [
    {
     "data": {
      "text/plain": [
       "array([7, 2, 1])"
      ]
     },
     "execution_count": 55,
     "metadata": {},
     "output_type": "execute_result"
    }
   ],
   "source": [
    "myArray[0:3]"
   ]
  },
  {
   "cell_type": "code",
   "execution_count": 56,
   "id": "8322fb42-fc8a-44c2-8a67-934c9f5a1cf7",
   "metadata": {},
   "outputs": [
    {
     "data": {
      "text/plain": [
       "array([2, 1])"
      ]
     },
     "execution_count": 56,
     "metadata": {},
     "output_type": "execute_result"
    }
   ],
   "source": [
    "myArray[1:]"
   ]
  },
  {
   "cell_type": "markdown",
   "id": "5a4139b2-142f-4c1e-83a1-77595a6a7a71",
   "metadata": {},
   "source": [
    "____________\n",
    "### Page 7 - Creating Matrices with Arrays"
   ]
  },
  {
   "cell_type": "code",
   "execution_count": 57,
   "id": "2324e035-c358-4847-a383-adfbb8fd8764",
   "metadata": {},
   "outputs": [],
   "source": [
    "myMatrix = np.array([[8, 9], [5, 4]])"
   ]
  },
  {
   "cell_type": "code",
   "execution_count": 58,
   "id": "7975aded-d871-4f3e-81f3-9cf0aa252f2b",
   "metadata": {},
   "outputs": [
    {
     "data": {
      "text/plain": [
       "array([[8, 9],\n",
       "       [5, 4]])"
      ]
     },
     "execution_count": 58,
     "metadata": {},
     "output_type": "execute_result"
    }
   ],
   "source": [
    "myMatrix"
   ]
  },
  {
   "cell_type": "markdown",
   "id": "96cdd1a0-389b-4f5c-a73a-0dad1d459590",
   "metadata": {},
   "source": [
    "**Matrix of all Ones**"
   ]
  },
  {
   "cell_type": "code",
   "execution_count": 60,
   "id": "f6296a44-c0a6-4e5d-a1a4-3c5e3f523c08",
   "metadata": {},
   "outputs": [],
   "source": [
    "all1sMatrix = np.ones((7, 2))"
   ]
  },
  {
   "cell_type": "code",
   "execution_count": 61,
   "id": "738d4f13-ea08-4ca0-b295-530d421e254c",
   "metadata": {},
   "outputs": [
    {
     "data": {
      "text/plain": [
       "array([[1., 1.],\n",
       "       [1., 1.],\n",
       "       [1., 1.],\n",
       "       [1., 1.],\n",
       "       [1., 1.],\n",
       "       [1., 1.],\n",
       "       [1., 1.]])"
      ]
     },
     "execution_count": 61,
     "metadata": {},
     "output_type": "execute_result"
    }
   ],
   "source": [
    "all1sMatrix"
   ]
  },
  {
   "cell_type": "markdown",
   "id": "bd766a68-bfd4-4418-bc26-e18dcf3c0f47",
   "metadata": {},
   "source": [
    "**Matrix of all Zeros**"
   ]
  },
  {
   "cell_type": "code",
   "execution_count": 62,
   "id": "fa3e15f4-9ea9-4a76-98ff-7d37702f3e33",
   "metadata": {},
   "outputs": [],
   "source": [
    "all0sMatrix = np.zeros((7, 2))"
   ]
  },
  {
   "cell_type": "code",
   "execution_count": 63,
   "id": "5dbe317d-aeda-4e82-9e23-61086f16473f",
   "metadata": {},
   "outputs": [
    {
     "data": {
      "text/plain": [
       "array([[0., 0.],\n",
       "       [0., 0.],\n",
       "       [0., 0.],\n",
       "       [0., 0.],\n",
       "       [0., 0.],\n",
       "       [0., 0.],\n",
       "       [0., 0.]])"
      ]
     },
     "execution_count": 63,
     "metadata": {},
     "output_type": "execute_result"
    }
   ],
   "source": [
    "all0sMatrix"
   ]
  },
  {
   "cell_type": "markdown",
   "id": "f0bef3a8-44a2-43a8-9a22-0b9e40e17e72",
   "metadata": {},
   "source": [
    "**Random Matrix**"
   ]
  },
  {
   "cell_type": "code",
   "execution_count": 64,
   "id": "0b2a3419-d9f2-4624-8a45-79890353f71f",
   "metadata": {},
   "outputs": [],
   "source": [
    "randomMatrix = np.random.random((7, 2))"
   ]
  },
  {
   "cell_type": "code",
   "execution_count": 65,
   "id": "f38b3848-289d-4f7d-b50e-d9a3e07a9c96",
   "metadata": {},
   "outputs": [
    {
     "data": {
      "text/plain": [
       "array([[0.39621425, 0.8537512 ],\n",
       "       [0.79635674, 0.64363511],\n",
       "       [0.27890575, 0.4854065 ],\n",
       "       [0.31520726, 0.4807759 ],\n",
       "       [0.82594468, 0.56108173],\n",
       "       [0.17246225, 0.42197211],\n",
       "       [0.12372615, 0.6389455 ]])"
      ]
     },
     "execution_count": 65,
     "metadata": {},
     "output_type": "execute_result"
    }
   ],
   "source": [
    "randomMatrix"
   ]
  },
  {
   "cell_type": "markdown",
   "id": "ddfdd4c6-c3c7-4d80-af2f-9e2a3e457044",
   "metadata": {},
   "source": [
    "____________\n",
    "### Page 8 - Matrix Arithmetic and Aggregation"
   ]
  },
  {
   "cell_type": "markdown",
   "id": "30dd8a8b-7327-4c86-a2f5-981320c4c93f",
   "metadata": {},
   "source": [
    "**Arithmetic**"
   ]
  },
  {
   "cell_type": "code",
   "execution_count": 66,
   "id": "22826f8b-dcc1-4917-abad-0f132aa3bd65",
   "metadata": {},
   "outputs": [
    {
     "data": {
      "text/plain": [
       "array([[1.39621425, 1.8537512 ],\n",
       "       [1.79635674, 1.64363511],\n",
       "       [1.27890575, 1.4854065 ],\n",
       "       [1.31520726, 1.4807759 ],\n",
       "       [1.82594468, 1.56108173],\n",
       "       [1.17246225, 1.42197211],\n",
       "       [1.12372615, 1.6389455 ]])"
      ]
     },
     "execution_count": 66,
     "metadata": {},
     "output_type": "execute_result"
    }
   ],
   "source": [
    "randomMatrix + all1sMatrix"
   ]
  },
  {
   "cell_type": "markdown",
   "id": "f81b01e3-593d-416a-af2a-e091ac3c5050",
   "metadata": {},
   "source": [
    "**Aggregation**"
   ]
  },
  {
   "cell_type": "code",
   "execution_count": 67,
   "id": "a2256419-746d-446d-ab59-60988f92015d",
   "metadata": {},
   "outputs": [
    {
     "data": {
      "text/plain": [
       "4"
      ]
     },
     "execution_count": 67,
     "metadata": {},
     "output_type": "execute_result"
    }
   ],
   "source": [
    "myMatrix.min()"
   ]
  },
  {
   "cell_type": "code",
   "execution_count": 69,
   "id": "1205653b-2e9d-43e7-972c-f34afac9ac88",
   "metadata": {},
   "outputs": [
    {
     "data": {
      "text/plain": [
       "9"
      ]
     },
     "execution_count": 69,
     "metadata": {},
     "output_type": "execute_result"
    }
   ],
   "source": [
    "myMatrix.max()"
   ]
  },
  {
   "cell_type": "code",
   "execution_count": 70,
   "id": "3f4aa9f9-f0ac-4529-9225-dd064ef010f9",
   "metadata": {},
   "outputs": [
    {
     "data": {
      "text/plain": [
       "26"
      ]
     },
     "execution_count": 70,
     "metadata": {},
     "output_type": "execute_result"
    }
   ],
   "source": [
    "myMatrix.sum()"
   ]
  },
  {
   "cell_type": "code",
   "execution_count": 71,
   "id": "614fcb93-8f92-48b8-93f2-529739375fb4",
   "metadata": {},
   "outputs": [
    {
     "data": {
      "text/plain": [
       "6.5"
      ]
     },
     "execution_count": 71,
     "metadata": {},
     "output_type": "execute_result"
    }
   ],
   "source": [
    "myMatrix.mean()"
   ]
  },
  {
   "cell_type": "code",
   "execution_count": 72,
   "id": "51fbda69-533c-47d2-a579-4c9603d71842",
   "metadata": {},
   "outputs": [
    {
     "data": {
      "text/plain": [
       "2.0615528128088303"
      ]
     },
     "execution_count": 72,
     "metadata": {},
     "output_type": "execute_result"
    }
   ],
   "source": [
    "myMatrix.std()"
   ]
  },
  {
   "cell_type": "markdown",
   "id": "065435dd-37df-43f2-a857-97e02633e3d1",
   "metadata": {},
   "source": [
    "____________\n",
    "### Page 9 - Matrix Indexing"
   ]
  },
  {
   "cell_type": "code",
   "execution_count": 73,
   "id": "f0b20e50-a9d6-4934-860c-0a1bb5865b3f",
   "metadata": {},
   "outputs": [
    {
     "data": {
      "text/plain": [
       "9"
      ]
     },
     "execution_count": 73,
     "metadata": {},
     "output_type": "execute_result"
    }
   ],
   "source": [
    "myMatrix[0,1]"
   ]
  },
  {
   "cell_type": "markdown",
   "id": "93de3c68-763f-4ddd-b4aa-9929a7cca798",
   "metadata": {},
   "source": [
    "____________\n",
    "### Page 10 - Aggregating Matrix Values Across Columns and Rows"
   ]
  },
  {
   "cell_type": "markdown",
   "id": "995f463f-136d-48f4-b9ae-d3edbc784b03",
   "metadata": {},
   "source": [
    "**find the largest number in the columns**"
   ]
  },
  {
   "cell_type": "code",
   "execution_count": 74,
   "id": "5ebdf015-6cd9-4eb8-a093-588702675330",
   "metadata": {},
   "outputs": [
    {
     "data": {
      "text/plain": [
       "array([8, 9])"
      ]
     },
     "execution_count": 74,
     "metadata": {},
     "output_type": "execute_result"
    }
   ],
   "source": [
    "myMatrix.max(axis = 0)"
   ]
  },
  {
   "cell_type": "markdown",
   "id": "0a16fd76-878d-437d-842f-51b543cbd06d",
   "metadata": {},
   "source": [
    "**find the largest number in the rows**"
   ]
  },
  {
   "cell_type": "code",
   "execution_count": 75,
   "id": "9dc45323-a575-49c3-9d16-fd90c437dc14",
   "metadata": {},
   "outputs": [
    {
     "data": {
      "text/plain": [
       "array([9, 5])"
      ]
     },
     "execution_count": 75,
     "metadata": {},
     "output_type": "execute_result"
    }
   ],
   "source": [
    "myMatrix.max(axis = 1)"
   ]
  },
  {
   "cell_type": "markdown",
   "id": "962ce5c8-60a8-449a-914f-f5b064e1b4fa",
   "metadata": {},
   "source": [
    "____________\n",
    "### Page 11 - Manipulating Matrices"
   ]
  },
  {
   "cell_type": "markdown",
   "id": "a09de3d7-4af5-4ad6-9b56-1c74027d4126",
   "metadata": {},
   "source": [
    "**Transposing**"
   ]
  },
  {
   "cell_type": "code",
   "execution_count": 77,
   "id": "6ce5d483-f953-499f-bfc3-c187d5368eae",
   "metadata": {},
   "outputs": [
    {
     "data": {
      "text/plain": [
       "array([[1., 1., 1., 1., 1., 1., 1.],\n",
       "       [1., 1., 1., 1., 1., 1., 1.]])"
      ]
     },
     "execution_count": 77,
     "metadata": {},
     "output_type": "execute_result"
    }
   ],
   "source": [
    "all1sMatrix.T"
   ]
  },
  {
   "cell_type": "markdown",
   "id": "86f90b8d-5d76-4174-b473-ec1de2d1d2b5",
   "metadata": {},
   "source": [
    "**Reshaping**"
   ]
  },
  {
   "cell_type": "code",
   "execution_count": 78,
   "id": "c07314fd-c49f-4a9e-bdd6-16ec81d977ff",
   "metadata": {},
   "outputs": [
    {
     "data": {
      "text/plain": [
       "array([[1.],\n",
       "       [1.],\n",
       "       [1.],\n",
       "       [1.],\n",
       "       [1.],\n",
       "       [1.],\n",
       "       [1.],\n",
       "       [1.],\n",
       "       [1.],\n",
       "       [1.],\n",
       "       [1.],\n",
       "       [1.],\n",
       "       [1.],\n",
       "       [1.]])"
      ]
     },
     "execution_count": 78,
     "metadata": {},
     "output_type": "execute_result"
    }
   ],
   "source": [
    "all1sMatrix.reshape(14,1)"
   ]
  },
  {
   "cell_type": "markdown",
   "id": "3c6dd4c8-f9b8-4303-8852-628e4afb0e50",
   "metadata": {},
   "source": [
    "***Reshaping to intentionally get an error***"
   ]
  },
  {
   "cell_type": "code",
   "execution_count": 81,
   "id": "3af9c092-d651-4fac-b256-042c76eeff4f",
   "metadata": {},
   "outputs": [],
   "source": [
    "# all1sMatrix.reshape(3,5)"
   ]
  },
  {
   "cell_type": "markdown",
   "id": "71c89175-1f1c-4cec-b79f-139da310ee8d",
   "metadata": {},
   "source": [
    "*Commented out after getting error:*\n",
    "\n",
    "ValueError                                Traceback (most recent call last)\n",
    "/var/folders/zg/fxyw2v_910lgtrr94rf2vw0c0000gs/T/ipykernel_44358/3367259243.py in <module>\n",
    "----> 1 all1sMatrix.reshape(3,5)\n",
    "\n",
    "ValueError: cannot reshape array of size 14 into shape (3,5)"
   ]
  }
 ],
 "metadata": {
  "kernelspec": {
   "display_name": "Python 3 (ipykernel)",
   "language": "python",
   "name": "python3"
  },
  "language_info": {
   "codemirror_mode": {
    "name": "ipython",
    "version": 3
   },
   "file_extension": ".py",
   "mimetype": "text/x-python",
   "name": "python",
   "nbconvert_exporter": "python",
   "pygments_lexer": "ipython3",
   "version": "3.9.13"
  }
 },
 "nbformat": 4,
 "nbformat_minor": 5
}
